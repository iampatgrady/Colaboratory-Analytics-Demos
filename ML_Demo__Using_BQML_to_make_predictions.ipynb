{
  "nbformat": 4,
  "nbformat_minor": 0,
  "metadata": {
    "colab": {
      "name": "ML Demo | Using BQML to make predictions.ipynb",
      "version": "0.3.2",
      "provenance": [],
      "collapsed_sections": [],
      "toc_visible": true,
      "include_colab_link": true
    },
    "kernelspec": {
      "name": "python2",
      "display_name": "Python 2"
    }
  },
  "cells": [
    {
      "cell_type": "markdown",
      "metadata": {
        "id": "view-in-github",
        "colab_type": "text"
      },
      "source": [
        "[View in Colaboratory](https://colab.research.google.com/github/iampatgrady/Colaboratory-Analytics-Demos/blob/master/ML_Demo__Using_BQML_to_make_predictions.ipynb)"
      ]
    },
    {
      "metadata": {
        "id": "2GQvgCkBJEU7",
        "colab_type": "text"
      },
      "cell_type": "markdown",
      "source": [
        "# Using BQML to Predict Demand for NYC Taxis based on the Weather Forecast\n",
        "\n",
        "Goal is to build a predictive model using only BigQuery standard SQL. Since this is a Python notebook, we'll use some of the features of Python to analyze the data (ie. a loss function for calculating RSME), but the model itself and it's preditive comes comes from BigQuery alone. This is called BigQuery ML (BQML) and we couldn't be more excited to try it out!\n",
        "\n",
        "To get started, we'll take a [classic Machine Learning example](https://github.com/GoogleCloudPlatform/training-data-analyst/blob/master/CPB100/lab4a/demandforecast.ipynb) and remove the TensorFlow piece. Rest assured, TensorFlow is still being used, but it has been abstracted from view. You'll notice this model performs significantly better than the predessor, and it do this with no customatization on the model.\n"
      ]
    },
    {
      "metadata": {
        "id": "2vuXf9sjMfuS",
        "colab_type": "code",
        "colab": {}
      },
      "cell_type": "code",
      "source": [
        "import pandas as pd\n",
        "import numpy as np\n",
        "import sys\n",
        "from google.cloud import bigquery\n",
        "from google.colab import auth\n",
        "auth.authenticate_user()"
      ],
      "execution_count": 0,
      "outputs": []
    },
    {
      "metadata": {
        "id": "mdXecGNpiCFU",
        "colab_type": "text"
      },
      "cell_type": "markdown",
      "source": [
        "You'll need to define some variables that will be used throughout the notebook. These are the GCP `project_id`, the `model_name` can be any name you prefer, and finally the `dateset_name`. The dataset needs to exist in the same project as the `project_id` and you need to have sufficient access to create and delete."
      ]
    },
    {
      "metadata": {
        "id": "cyFfGIHmNMVt",
        "colab_type": "code",
        "colab": {}
      },
      "cell_type": "code",
      "source": [
        "#@title Setup Project Variables { run: \"auto\", display-mode: \"form\" }\n",
        "project_id = 'your_project_id' #@param {type:\"string\"}\n",
        "dataset_name = \"your_dataset_name\" #@param {type:\"string\"}\n",
        "model_name = \"your_data_model_name\" #@param {type:\"string\"}\n",
        "eval_name = model_name + \"_eval\"\n",
        "client = bigquery.Client(project=project_id)"
      ],
      "execution_count": 0,
      "outputs": []
    },
    {
      "metadata": {
        "id": "O62ZVAjmQreq",
        "colab_type": "text"
      },
      "cell_type": "markdown",
      "source": [
        "## Create a Linear Regression Model"
      ]
    },
    {
      "metadata": {
        "id": "t8_d_PHsi7P0",
        "colab_type": "text"
      },
      "cell_type": "markdown",
      "source": [
        "### Creating labeled data\n",
        "This query can be run in BigQuery on its own. Try it out! This query gives us 3 years of taxi and weather data for the NYC region. Those two datasets represent our labeled data: weather as our features (or metrics) and taxi trips as our label (target, class, objective, etc...)."
      ]
    },
    {
      "metadata": {
        "id": "eCp07Yr1nXu6",
        "colab_type": "code",
        "colab": {
          "base_uri": "https://localhost:8080/",
          "height": 34
        },
        "outputId": "ba6cb6b6-5fdb-4481-a70d-8099425bde5c"
      },
      "cell_type": "code",
      "source": [
        "query = \"\"\"\n",
        "WITH trips AS (\n",
        "  SELECT \n",
        "      EXTRACT (YEAR from pickup_datetime) AS year, \n",
        "      EXTRACT (DAYOFYEAR from pickup_datetime) AS daynumber \n",
        "  FROM `bigquery-public-data.new_york.tlc_yellow_trips_*`\n",
        "  where _TABLE_SUFFIX between '2014' and '2016'\n",
        ")\n",
        "SELECT  cast(year as STRING) as year, daynumber, COUNT(1) AS numtrips FROM trips\n",
        "GROUP BY year, daynumber \n",
        "\"\"\"\n",
        "df = client.query(query).to_dataframe()\n",
        "maxtrips = df.numtrips.max()\n",
        "print \"Maximum number of trips in a day: {}\".format(maxtrips)"
      ],
      "execution_count": 5,
      "outputs": [
        {
          "output_type": "stream",
          "text": [
            "Maximum number of trips in a day: 574530\n"
          ],
          "name": "stdout"
        }
      ]
    },
    {
      "metadata": {
        "id": "TL80EPsU9K6E",
        "colab_type": "code",
        "colab": {
          "base_uri": "https://localhost:8080/",
          "height": 34
        },
        "outputId": "45d672d8-2bc3-42c6-b761-c8385641e771"
      },
      "cell_type": "code",
      "source": [
        "taxidemand = \"\"\"\n",
        "  -- WEATHER DATA\n",
        "  with wd as (\n",
        "    SELECT \n",
        "        cast(year as STRING) as year,\n",
        "        EXTRACT (DAYOFYEAR FROM CAST(CONCAT(year,'-',mo,'-',da) AS TIMESTAMP)) AS daynumber, \n",
        "        MIN(EXTRACT (DAYOFWEEK FROM CAST(CONCAT(year,'-',mo,'-',da) AS TIMESTAMP))) dayofweek,\n",
        "        MIN(min) mintemp, MAX(max) maxtemp, MAX(IF(prcp=99.99,0,prcp)) rain\n",
        "    FROM `bigquery-public-data.noaa_gsod.gsod*`\n",
        "    WHERE stn='725030'  AND _TABLE_SUFFIX between '2014' and '2016' --station id 725030=LaGuardia\n",
        "    GROUP BY 1,2 \n",
        "  \n",
        "  -- TAXI DATA\n",
        "  ), td as (  \n",
        "    WITH trips AS (\n",
        "      SELECT \n",
        "          EXTRACT (YEAR from pickup_datetime) AS year, \n",
        "          EXTRACT (DAYOFYEAR from pickup_datetime) AS daynumber \n",
        "      FROM `bigquery-public-data.new_york.tlc_yellow_trips_*`\n",
        "      where _TABLE_SUFFIX between '2014' and '2016'\n",
        "    )\n",
        "    SELECT  cast(year as STRING) as year, daynumber, COUNT(1) AS numtrips FROM trips\n",
        "    GROUP BY year, daynumber \n",
        "  )\n",
        "  \n",
        "  -- JOIN WEATHER AND TAXI DATA\n",
        "    SELECT cast(wd.dayofweek as STRING) as dayofweek, \n",
        "    wd.mintemp, \n",
        "    wd.maxtemp, \n",
        "    wd.rain,\n",
        "    td.numtrips / max(td.numtrips) OVER () as label \n",
        "  FROM wd, td\n",
        "  where wd.year = td.year AND\n",
        "  wd.daynumber = td.daynumber\n",
        "  group by dayofweek, mintemp, maxtemp, rain, numtrips\n",
        "\"\"\"\n",
        "data = client.query(taxidemand).to_dataframe()\n",
        "print data.shape"
      ],
      "execution_count": 7,
      "outputs": [
        {
          "output_type": "stream",
          "text": [
            "(1096, 5)\n"
          ],
          "name": "stdout"
        }
      ]
    },
    {
      "metadata": {
        "id": "rg9TOfUi_q3G",
        "colab_type": "text"
      },
      "cell_type": "markdown",
      "source": [
        "### Data Exploration"
      ]
    },
    {
      "metadata": {
        "id": "OqdO153Y0ZYi",
        "colab_type": "code",
        "colab": {
          "base_uri": "https://localhost:8080/",
          "height": 437
        },
        "outputId": "83dbfa83-ce7f-4898-bf69-cdb53adf218c"
      },
      "cell_type": "code",
      "source": [
        "import seaborn\n",
        "from  matplotlib import pyplot as plt\n",
        "fg = seaborn.FacetGrid(data=data, hue='dayofweek', size=6,aspect=1.67)\n",
        "fg = fg.map(plt.scatter, 'label', 'maxtemp').add_legend()\n",
        "fg = fg.set_axis_labels(x_var=\"Number of Trips\", y_var=\"Maximum Temperature\")"
      ],
      "execution_count": 8,
      "outputs": [
        {
          "output_type": "display_data",
          "data": {
            "image/png": "[encoded data removed]",
            "text/plain": [
              "<matplotlib.figure.Figure at 0x7ff7743f7990>"
            ]
          },
          "metadata": {
            "tags": []
          }
        }
      ]
    },
    {
      "metadata": {
        "id": "v79jdqO2Zqno",
        "colab_type": "code",
        "colab": {
          "base_uri": "https://localhost:8080/",
          "height": 229
        },
        "outputId": "8e8933ea-96bb-4081-a10e-191cfe4c6115"
      },
      "cell_type": "code",
      "source": [
        "_ = data.hist(column='label',by='dayofweek', layout=(1,7), figsize=(16,3), sharey=True, sharex=True)"
      ],
      "execution_count": 10,
      "outputs": [
        {
          "output_type": "display_data",
          "data": {
            "image/png": "[encoded data removed]",
            "text/plain": [
              "<matplotlib.figure.Figure at 0x7ff75e589d50>"
            ]
          },
          "metadata": {
            "tags": []
          }
        }
      ]
    },
    {
      "metadata": {
        "id": "Dc1VNUnVcpVH",
        "colab_type": "code",
        "colab": {
          "base_uri": "https://localhost:8080/",
          "height": 403
        },
        "outputId": "7f0037bf-a403-4507-9803-9f3d84595f3a"
      },
      "cell_type": "code",
      "source": [
        "df = data[data.dayofweek == '7']\n",
        "x = df.label\n",
        "y = df.maxtemp\n",
        "df.plot(kind=\"scatter\",x=\"label\",y=\"maxtemp\", figsize=[10,6],ylim=0,xlim=0)\n",
        "z = np.polyfit(x, y, 1)\n",
        "p = np.poly1d(z)\n",
        "plt.plot(x,p(x),\"r\")\n",
        "plt.title(\"Saturday Taxi Trips by Maximum Temp.\")\n",
        "plt.show()"
      ],
      "execution_count": 11,
      "outputs": [
        {
          "output_type": "display_data",
          "data": {
            "image/png": "[encoded data removed]",
            "text/plain": [
              "<matplotlib.figure.Figure at 0x7ff75e056410>"
            ]
          },
          "metadata": {
            "tags": []
          }
        }
      ]
    },
    {
      "metadata": {
        "id": "H_jFTiE4_1OO",
        "colab_type": "text"
      },
      "cell_type": "markdown",
      "source": [
        "We see that trips made on a Saturday have a strong correlation with the maximum temperature. As the temperature descreases the demand for taxis increases. Our model is likely going to be able to use the predictive power found within this relationship between feature inputs and our target variable."
      ]
    },
    {
      "metadata": {
        "id": "Eij4o-fDlpd8",
        "colab_type": "text"
      },
      "cell_type": "markdown",
      "source": [
        "### Defining Model Parameters"
      ]
    },
    {
      "metadata": {
        "id": "S2S4NJ9plHrp",
        "colab_type": "text"
      },
      "cell_type": "markdown",
      "source": [
        "In order to turn the above SQL into a predictive model, we simply need to `CREATE` the `MODEL` specifiying `linear_reg` or `logistic_reg`. This lets you build models for both regression (continous variable prediction) or classification (discreet variable prediction). Refer to the BQML documentation for more information on options and configuring your predictive model."
      ]
    },
    {
      "metadata": {
        "id": "lpPdV_PXMfvU",
        "colab_type": "code",
        "colab": {}
      },
      "cell_type": "code",
      "source": [
        "query = \"\"\"\n",
        "  CREATE OR REPLACE MODEL {0}.{1} \n",
        "    OPTIONS (\n",
        "      l2_reg=1e-6,\n",
        "      model_type='linear_reg'\n",
        "    ) as {2}\n",
        "\"\"\".format(dataset_name, model_name, taxidemand)"
      ],
      "execution_count": 0,
      "outputs": []
    },
    {
      "metadata": {
        "id": "XQ_rGCZQN-0c",
        "colab_type": "text"
      },
      "cell_type": "markdown",
      "source": [
        "### `CREATE MODEL` using `linear_reg`\n",
        "The `for` loop will kick-off the `query_job` that has the `query` waiting to be processed. Once the job finishes it will continue through the `query_job` iterator until finished. At this point in time, the Google Cloud Python BigQuery API is throwing errors; these will be addressed in the near future."
      ]
    },
    {
      "metadata": {
        "id": "3tmKmnutUvuC",
        "colab_type": "code",
        "colab": {
          "base_uri": "https://localhost:8080/",
          "height": 88
        },
        "outputId": "3401876c-f9a1-4d1e-b24e-ecdcb62a074e"
      },
      "cell_type": "code",
      "source": [
        "query_job = client.query(query)\n",
        "dataset_ref = client.dataset(dataset_name)\n",
        "try: \n",
        "  for row in query_job:\n",
        "    print row\n",
        "except:\n",
        "  print \"ignoring this error: {}\".format(sys.exc_info()) #  the model was successfully created\n",
        "\n",
        "# confirm new tables exist in dataset\n",
        "for i in client.list_tables(dataset_ref):\n",
        "  if (i.table_id == model_name or i.table_id == eval_name):\n",
        "     print i.table_id"
      ],
      "execution_count": 13,
      "outputs": [
        {
          "output_type": "stream",
          "text": [
            "ignoring this error: (<type 'exceptions.ValueError'>, ValueError(\"Table has no schema:  call 'client.get_table()'\",), <traceback object at 0x7ff7621bde18>)\n",
            "taxidemand_model\n",
            "taxidemand_model_eval\n"
          ],
          "name": "stdout"
        }
      ]
    },
    {
      "metadata": {
        "id": "7Rujpd463BIc",
        "colab_type": "text"
      },
      "cell_type": "markdown",
      "source": [
        "## Get `ml.EVALUATE()` info"
      ]
    },
    {
      "metadata": {
        "id": "iHkVfKg0ASrN",
        "colab_type": "text"
      },
      "cell_type": "markdown",
      "source": [
        "### Baseline Mean Absolute Error\n",
        "We want to establish a baseline to measure ourselves against. Below, we take the entire dataset (using the `taxidemand` query). Taking the mean of `numtrips` gives us an average daily trip count of `403,642`.  We'll use Pandas Mean Absolute Deviation function to calculate our MAE."
      ]
    },
    {
      "metadata": {
        "id": "JOgEN2pkGGG4",
        "colab_type": "code",
        "colab": {
          "base_uri": "https://localhost:8080/",
          "height": 34
        },
        "outputId": "dedf4363-3051-455c-d906-db74d1b9174e"
      },
      "cell_type": "code",
      "source": [
        "# Our prediction should beat the average MAE\n",
        "df = client.query(taxidemand).to_dataframe()\n",
        "print 'Average trips={0} with a MAE of {1}'.format(\n",
        "    int(df.label.mean()*maxtrips), # scale value using the maxtrips variable\n",
        "    int(df.label.mad()*maxtrips) # MAE, MAD = Mean Absolute Error, Mean Absolute Difference\n",
        ")"
      ],
      "execution_count": 14,
      "outputs": [
        {
          "output_type": "stream",
          "text": [
            "Average trips=403642 with a MAE of 50419\n"
          ],
          "name": "stdout"
        }
      ]
    },
    {
      "metadata": {
        "id": "zFxtDZJr4uWU",
        "colab_type": "text"
      },
      "cell_type": "markdown",
      "source": [
        "### `ml.EVALUATE()`\n",
        "We're looking to beat the MAE (shown below as `mean_absolute_error`)  of `50,419`. Fingers crossed!"
      ]
    },
    {
      "metadata": {
        "id": "R2oulkWuojqf",
        "colab_type": "code",
        "colab": {
          "base_uri": "https://localhost:8080/",
          "height": 80
        },
        "outputId": "26e4d230-7158-4298-fa67-287b92f52380"
      },
      "cell_type": "code",
      "source": [
        "query = (\"select * from ml.EVALUATE(MODEL {0}.{1}, ({2}))\") \\\n",
        "  .format(dataset_name, model_name, taxidemand)\n",
        "df = client.query(query).to_dataframe()\n",
        "df[\"mean_absolute_error\"] = np.multiply(df[\"mean_absolute_error\"],maxtrips).astype(int)\n",
        "df"
      ],
      "execution_count": 15,
      "outputs": [
        {
          "output_type": "execute_result",
          "data": {
            "text/html": [
              "<div>\n",
              "<style scoped>\n",
              "    .dataframe tbody tr th:only-of-type {\n",
              "        vertical-align: middle;\n",
              "    }\n",
              "\n",
              "    .dataframe tbody tr th {\n",
              "        vertical-align: top;\n",
              "    }\n",
              "\n",
              "    .dataframe thead th {\n",
              "        text-align: right;\n",
              "    }\n",
              "</style>\n",
              "<table border=\"1\" class=\"dataframe\">\n",
              "  <thead>\n",
              "    <tr style=\"text-align: right;\">\n",
              "      <th></th>\n",
              "      <th>mean_absolute_error</th>\n",
              "      <th>mean_squared_error</th>\n",
              "      <th>mean_squared_log_error</th>\n",
              "      <th>median_absolute_error</th>\n",
              "      <th>r2_score</th>\n",
              "      <th>explained_variance</th>\n",
              "    </tr>\n",
              "  </thead>\n",
              "  <tbody>\n",
              "    <tr>\n",
              "      <th>0</th>\n",
              "      <td>43800</td>\n",
              "      <td>0.009846</td>\n",
              "      <td>0.003598</td>\n",
              "      <td>0.064709</td>\n",
              "      <td>0.200022</td>\n",
              "      <td>0.20064</td>\n",
              "    </tr>\n",
              "  </tbody>\n",
              "</table>\n",
              "</div>"
            ],
            "text/plain": [
              "   mean_absolute_error  mean_squared_error  mean_squared_log_error  \\\n",
              "0                43800            0.009846                0.003598   \n",
              "\n",
              "   median_absolute_error  r2_score  explained_variance  \n",
              "0               0.064709  0.200022             0.20064  "
            ]
          },
          "metadata": {
            "tags": []
          },
          "execution_count": 15
        }
      ]
    },
    {
      "metadata": {
        "id": "HPezziG9o8vT",
        "colab_type": "text"
      },
      "cell_type": "markdown",
      "source": [
        "Smashed it!"
      ]
    },
    {
      "metadata": {
        "id": "LW_s7hxdpmYU",
        "colab_type": "text"
      },
      "cell_type": "markdown",
      "source": [
        "### Custom Loss Function\n",
        "Do you read the articles that include \"the hard way\" in them? Perhaps you like to to see the math in action. Below we create a custom loss function and evaluate it against our model. We'll do this using the entire dataset (as defined by `taxidemand`).  We'd expect our `model_MAE` to match the `mean_absolute_error` value returned by the `ml.EVALUATE` function above.  Fingers crossed!"
      ]
    },
    {
      "metadata": {
        "id": "FJIH7C828L3t",
        "colab_type": "code",
        "colab": {
          "base_uri": "https://localhost:8080/",
          "height": 34
        },
        "outputId": "c2ad399f-db71-4a70-a800-62d7473167c6"
      },
      "cell_type": "code",
      "source": [
        "query = \"\"\"\n",
        "SELECT SUM(error) / COUNT(*) as model_MAE from (\n",
        "  SELECT  abs(predicted_label-label) as error\n",
        "          FROM ML.PREDICT(MODEL `{0}.{1}` , ({2}))\n",
        ")\n",
        "\"\"\".format(dataset_name, model_name, taxidemand)\n",
        "df = client.query(query).to_dataframe()\n",
        "print int(df.model_MAE*maxtrips)"
      ],
      "execution_count": 16,
      "outputs": [
        {
          "output_type": "stream",
          "text": [
            "43800\n"
          ],
          "name": "stdout"
        }
      ]
    },
    {
      "metadata": {
        "id": "Zxk23tcsqkEq",
        "colab_type": "text"
      },
      "cell_type": "markdown",
      "source": [
        "Sure enough, the math adds up!"
      ]
    },
    {
      "metadata": {
        "id": "6YGJebMOBN8O",
        "colab_type": "text"
      },
      "cell_type": "markdown",
      "source": [
        "## Get `ml.TRAINING_INFO()` for the model\n",
        "This shows us how many training procedures were needed to reach convergence, and provides various metrics associated with the training run. The system performs hyperparameter tuning automatically in order to establish the best model settings."
      ]
    },
    {
      "metadata": {
        "id": "7DFpB7z8_gkC",
        "colab_type": "code",
        "colab": {
          "base_uri": "https://localhost:8080/",
          "height": 204
        },
        "outputId": "1d4a4736-9bc2-42a3-9328-09584facc5c0"
      },
      "cell_type": "code",
      "source": [
        "query = \"select * from ml.TRAINING_INFO(MODEL {0}.{1})\".format(dataset_name, model_name)\n",
        "df = client.query(query).to_dataframe()\n",
        "df"
      ],
      "execution_count": 17,
      "outputs": [
        {
          "output_type": "execute_result",
          "data": {
            "text/html": [
              "<div>\n",
              "<style scoped>\n",
              "    .dataframe tbody tr th:only-of-type {\n",
              "        vertical-align: middle;\n",
              "    }\n",
              "\n",
              "    .dataframe tbody tr th {\n",
              "        vertical-align: top;\n",
              "    }\n",
              "\n",
              "    .dataframe thead th {\n",
              "        text-align: right;\n",
              "    }\n",
              "</style>\n",
              "<table border=\"1\" class=\"dataframe\">\n",
              "  <thead>\n",
              "    <tr style=\"text-align: right;\">\n",
              "      <th></th>\n",
              "      <th>training_run</th>\n",
              "      <th>iteration</th>\n",
              "      <th>loss</th>\n",
              "      <th>eval_loss</th>\n",
              "      <th>duration_ms</th>\n",
              "      <th>learning_rate</th>\n",
              "    </tr>\n",
              "  </thead>\n",
              "  <tbody>\n",
              "    <tr>\n",
              "      <th>0</th>\n",
              "      <td>0</td>\n",
              "      <td>4</td>\n",
              "      <td>0.009319</td>\n",
              "      <td>0.011853</td>\n",
              "      <td>7676</td>\n",
              "      <td>0.8</td>\n",
              "    </tr>\n",
              "    <tr>\n",
              "      <th>1</th>\n",
              "      <td>0</td>\n",
              "      <td>3</td>\n",
              "      <td>0.009375</td>\n",
              "      <td>0.011968</td>\n",
              "      <td>7317</td>\n",
              "      <td>0.4</td>\n",
              "    </tr>\n",
              "    <tr>\n",
              "      <th>2</th>\n",
              "      <td>0</td>\n",
              "      <td>2</td>\n",
              "      <td>0.009736</td>\n",
              "      <td>0.012293</td>\n",
              "      <td>7968</td>\n",
              "      <td>0.4</td>\n",
              "    </tr>\n",
              "    <tr>\n",
              "      <th>3</th>\n",
              "      <td>0</td>\n",
              "      <td>1</td>\n",
              "      <td>0.016767</td>\n",
              "      <td>0.018786</td>\n",
              "      <td>6972</td>\n",
              "      <td>0.4</td>\n",
              "    </tr>\n",
              "    <tr>\n",
              "      <th>4</th>\n",
              "      <td>0</td>\n",
              "      <td>0</td>\n",
              "      <td>0.188892</td>\n",
              "      <td>0.185410</td>\n",
              "      <td>9442</td>\n",
              "      <td>0.2</td>\n",
              "    </tr>\n",
              "  </tbody>\n",
              "</table>\n",
              "</div>"
            ],
            "text/plain": [
              "   training_run  iteration      loss  eval_loss  duration_ms  learning_rate\n",
              "0             0          4  0.009319   0.011853         7676            0.8\n",
              "1             0          3  0.009375   0.011968         7317            0.4\n",
              "2             0          2  0.009736   0.012293         7968            0.4\n",
              "3             0          1  0.016767   0.018786         6972            0.4\n",
              "4             0          0  0.188892   0.185410         9442            0.2"
            ]
          },
          "metadata": {
            "tags": []
          },
          "execution_count": 17
        }
      ]
    },
    {
      "metadata": {
        "id": "REPBeyzo4C0n",
        "colab_type": "code",
        "colab": {
          "base_uri": "https://localhost:8080/",
          "height": 361
        },
        "outputId": "ad58eb70-20e1-48f4-b37b-1cb4c3cf39a1"
      },
      "cell_type": "code",
      "source": [
        "import matplotlib.pyplot as plt\n",
        "df[['loss','eval_loss']].plot(x=df.iteration,xticks=df.iteration)\n",
        "plt.show()"
      ],
      "execution_count": 18,
      "outputs": [
        {
          "output_type": "display_data",
          "data": {
            "image/png": "[encoded data removed]",
            "text/plain": [
              "<matplotlib.figure.Figure at 0x7ff75e5c6d90>"
            ]
          },
          "metadata": {
            "tags": []
          }
        }
      ]
    },
    {
      "metadata": {
        "id": "jM4drx_3dODo",
        "colab_type": "text"
      },
      "cell_type": "markdown",
      "source": [
        "## Get ml.FEATURE_INFO() for the model\n",
        "This function prints out the descriptive statistics for the numerical features: min(), max(), avg(), and standard deviation. The category count shows the number of distinct values found within a categorical feature. Null count is important to note because the model will automatically convert nulls to the mean of the feature set (fairly standard practice, but could be controversial!)"
      ]
    },
    {
      "metadata": {
        "id": "SAISuAh1dche",
        "colab_type": "code",
        "colab": {
          "base_uri": "https://localhost:8080/",
          "height": 173
        },
        "outputId": "83a76fa9-8592-44c4-f171-3d7d5ec3ccd9"
      },
      "cell_type": "code",
      "source": [
        "query = \"select * from ml.FEATURE_INFO(MODEL {0}.{1})\".format(dataset_name, model_name)\n",
        "df = client.query(query).to_dataframe()\n",
        "df"
      ],
      "execution_count": 19,
      "outputs": [
        {
          "output_type": "execute_result",
          "data": {
            "text/html": [
              "<div>\n",
              "<style scoped>\n",
              "    .dataframe tbody tr th:only-of-type {\n",
              "        vertical-align: middle;\n",
              "    }\n",
              "\n",
              "    .dataframe tbody tr th {\n",
              "        vertical-align: top;\n",
              "    }\n",
              "\n",
              "    .dataframe thead th {\n",
              "        text-align: right;\n",
              "    }\n",
              "</style>\n",
              "<table border=\"1\" class=\"dataframe\">\n",
              "  <thead>\n",
              "    <tr style=\"text-align: right;\">\n",
              "      <th></th>\n",
              "      <th>input</th>\n",
              "      <th>min</th>\n",
              "      <th>max</th>\n",
              "      <th>mean</th>\n",
              "      <th>stddev</th>\n",
              "      <th>category_count</th>\n",
              "      <th>null_count</th>\n",
              "    </tr>\n",
              "  </thead>\n",
              "  <tbody>\n",
              "    <tr>\n",
              "      <th>0</th>\n",
              "      <td>dayofweek</td>\n",
              "      <td>NaN</td>\n",
              "      <td>NaN</td>\n",
              "      <td>NaN</td>\n",
              "      <td>NaN</td>\n",
              "      <td>7.0</td>\n",
              "      <td>0</td>\n",
              "    </tr>\n",
              "    <tr>\n",
              "      <th>1</th>\n",
              "      <td>mintemp</td>\n",
              "      <td>1.0</td>\n",
              "      <td>82.00</td>\n",
              "      <td>48.195073</td>\n",
              "      <td>18.031228</td>\n",
              "      <td>NaN</td>\n",
              "      <td>0</td>\n",
              "    </tr>\n",
              "    <tr>\n",
              "      <th>2</th>\n",
              "      <td>maxtemp</td>\n",
              "      <td>21.0</td>\n",
              "      <td>99.00</td>\n",
              "      <td>66.151825</td>\n",
              "      <td>18.484065</td>\n",
              "      <td>NaN</td>\n",
              "      <td>0</td>\n",
              "    </tr>\n",
              "    <tr>\n",
              "      <th>3</th>\n",
              "      <td>rain</td>\n",
              "      <td>0.0</td>\n",
              "      <td>4.88</td>\n",
              "      <td>0.117272</td>\n",
              "      <td>0.320836</td>\n",
              "      <td>NaN</td>\n",
              "      <td>0</td>\n",
              "    </tr>\n",
              "  </tbody>\n",
              "</table>\n",
              "</div>"
            ],
            "text/plain": [
              "       input   min    max       mean     stddev  category_count  null_count\n",
              "0  dayofweek   NaN    NaN        NaN        NaN             7.0           0\n",
              "1    mintemp   1.0  82.00  48.195073  18.031228             NaN           0\n",
              "2    maxtemp  21.0  99.00  66.151825  18.484065             NaN           0\n",
              "3       rain   0.0   4.88   0.117272   0.320836             NaN           0"
            ]
          },
          "metadata": {
            "tags": []
          },
          "execution_count": 19
        }
      ]
    },
    {
      "metadata": {
        "id": "gjMcaw5pDOgO",
        "colab_type": "text"
      },
      "cell_type": "markdown",
      "source": [
        "## Get `ml.WEIGHTS()` for the `dayofweek`\n",
        "We created a linear model, here are the weights applied to the features of that model."
      ]
    },
    {
      "metadata": {
        "id": "jHQkhHQ1w72e",
        "colab_type": "code",
        "colab": {
          "base_uri": "https://localhost:8080/",
          "height": 204
        },
        "outputId": "8fb9be4e-1f46-4897-ff22-d7f1f7a6cc8e"
      },
      "cell_type": "code",
      "source": [
        "query = \"select * from ml.WEIGHTS(MODEL {0}.{1})\".format(dataset_name, model_name)\n",
        "df = client.query(query).to_dataframe()\n",
        "pd.DataFrame({ \n",
        "    \"processed_input\" : df.processed_input,\n",
        "    \"weights\": df.weight \n",
        "})"
      ],
      "execution_count": 20,
      "outputs": [
        {
          "output_type": "execute_result",
          "data": {
            "text/html": [
              "<div>\n",
              "<style scoped>\n",
              "    .dataframe tbody tr th:only-of-type {\n",
              "        vertical-align: middle;\n",
              "    }\n",
              "\n",
              "    .dataframe tbody tr th {\n",
              "        vertical-align: top;\n",
              "    }\n",
              "\n",
              "    .dataframe thead th {\n",
              "        text-align: right;\n",
              "    }\n",
              "</style>\n",
              "<table border=\"1\" class=\"dataframe\">\n",
              "  <thead>\n",
              "    <tr style=\"text-align: right;\">\n",
              "      <th></th>\n",
              "      <th>processed_input</th>\n",
              "      <th>weights</th>\n",
              "    </tr>\n",
              "  </thead>\n",
              "  <tbody>\n",
              "    <tr>\n",
              "      <th>0</th>\n",
              "      <td>dayofweek</td>\n",
              "      <td>NaN</td>\n",
              "    </tr>\n",
              "    <tr>\n",
              "      <th>1</th>\n",
              "      <td>mintemp</td>\n",
              "      <td>-0.015707</td>\n",
              "    </tr>\n",
              "    <tr>\n",
              "      <th>2</th>\n",
              "      <td>maxtemp</td>\n",
              "      <td>-0.011993</td>\n",
              "    </tr>\n",
              "    <tr>\n",
              "      <th>3</th>\n",
              "      <td>rain</td>\n",
              "      <td>-0.003143</td>\n",
              "    </tr>\n",
              "    <tr>\n",
              "      <th>4</th>\n",
              "      <td>__INTERCEPT__</td>\n",
              "      <td>0.353066</td>\n",
              "    </tr>\n",
              "  </tbody>\n",
              "</table>\n",
              "</div>"
            ],
            "text/plain": [
              "  processed_input   weights\n",
              "0       dayofweek       NaN\n",
              "1         mintemp -0.015707\n",
              "2         maxtemp -0.011993\n",
              "3            rain -0.003143\n",
              "4   __INTERCEPT__  0.353066"
            ]
          },
          "metadata": {
            "tags": []
          },
          "execution_count": 20
        }
      ]
    },
    {
      "metadata": {
        "id": "6eBq-uLFDMCk",
        "colab_type": "code",
        "colab": {
          "base_uri": "https://localhost:8080/",
          "height": 266
        },
        "outputId": "b3c75c5c-32d1-4c65-a908-8998ffa13b15"
      },
      "cell_type": "code",
      "source": [
        "query = \"select * from ml.WEIGHTS(MODEL {0}.{1})\".format(dataset_name, model_name)\n",
        "df = client.query(query).to_dataframe()\n",
        "df = pd.DataFrame(df.category_weights[0]).sort_values(by='category')\n",
        "df.round(2)"
      ],
      "execution_count": 21,
      "outputs": [
        {
          "output_type": "execute_result",
          "data": {
            "text/html": [
              "<div>\n",
              "<style scoped>\n",
              "    .dataframe tbody tr th:only-of-type {\n",
              "        vertical-align: middle;\n",
              "    }\n",
              "\n",
              "    .dataframe tbody tr th {\n",
              "        vertical-align: top;\n",
              "    }\n",
              "\n",
              "    .dataframe thead th {\n",
              "        text-align: right;\n",
              "    }\n",
              "</style>\n",
              "<table border=\"1\" class=\"dataframe\">\n",
              "  <thead>\n",
              "    <tr style=\"text-align: right;\">\n",
              "      <th></th>\n",
              "      <th>category</th>\n",
              "      <th>weight</th>\n",
              "    </tr>\n",
              "  </thead>\n",
              "  <tbody>\n",
              "    <tr>\n",
              "      <th>1</th>\n",
              "      <td>1</td>\n",
              "      <td>0.32</td>\n",
              "    </tr>\n",
              "    <tr>\n",
              "      <th>6</th>\n",
              "      <td>2</td>\n",
              "      <td>0.29</td>\n",
              "    </tr>\n",
              "    <tr>\n",
              "      <th>2</th>\n",
              "      <td>3</td>\n",
              "      <td>0.33</td>\n",
              "    </tr>\n",
              "    <tr>\n",
              "      <th>5</th>\n",
              "      <td>4</td>\n",
              "      <td>0.36</td>\n",
              "    </tr>\n",
              "    <tr>\n",
              "      <th>3</th>\n",
              "      <td>5</td>\n",
              "      <td>0.37</td>\n",
              "    </tr>\n",
              "    <tr>\n",
              "      <th>4</th>\n",
              "      <td>6</td>\n",
              "      <td>0.40</td>\n",
              "    </tr>\n",
              "    <tr>\n",
              "      <th>0</th>\n",
              "      <td>7</td>\n",
              "      <td>0.40</td>\n",
              "    </tr>\n",
              "  </tbody>\n",
              "</table>\n",
              "</div>"
            ],
            "text/plain": [
              "  category  weight\n",
              "1        1    0.32\n",
              "6        2    0.29\n",
              "2        3    0.33\n",
              "5        4    0.36\n",
              "3        5    0.37\n",
              "4        6    0.40\n",
              "0        7    0.40"
            ]
          },
          "metadata": {
            "tags": []
          },
          "execution_count": 21
        }
      ]
    },
    {
      "metadata": {
        "id": "tw9YQ3HwJkr_",
        "colab_type": "text"
      },
      "cell_type": "markdown",
      "source": [
        "## Make Predictions\n",
        "Adjust the sliders to create new input values to be evaluated by the model.  The model takes the min and max tempertatures plus rainfall for any given day of the week and returns the predicted number of taxi trips that will occur that day. "
      ]
    },
    {
      "metadata": {
        "id": "G1fIhe5sIS8P",
        "colab_type": "code",
        "colab": {
          "base_uri": "https://localhost:8080/",
          "height": 80
        },
        "outputId": "85c132c9-f248-4791-9689-661da4a83038"
      },
      "cell_type": "code",
      "source": [
        "#@title Select your input parameters { run: \"auto\", display-mode: \"form\" }\n",
        "mintemp = 50 #@param {type:\"slider\", min:1, max:90, step:1}\n",
        "maxtemp = 75 #@param {type:\"slider\", min:10, max:110, step:1}\n",
        "rain = 0.2 #@param {type:\"slider\", min:0, max:5, step:0.1}\n",
        "dayofweek = 2 #@param {type:\"slider\", min:1, max:7, step:1}\n",
        "\n",
        "query = \"\"\"\n",
        "  select *\n",
        "  from ml.PREDICT(\n",
        "    MODEL {0}.{1},  (\n",
        "      select  '{5}' as dayofweek,  \n",
        "              {2} as mintemp,  \n",
        "              {3} as maxtemp, \n",
        "              {4} as rain\n",
        "    )\n",
        "  )\n",
        "\"\"\".format(dataset_name, \n",
        "           model_name, \n",
        "           mintemp,\n",
        "           maxtemp,\n",
        "           rain,\n",
        "           dayofweek)\n",
        "\n",
        "df = client.query(query).to_dataframe()\n",
        "df[\"predicted_label\"] = np.multiply(df[\"predicted_label\"],maxtrips).astype(int)\n",
        "df"
      ],
      "execution_count": 27,
      "outputs": [
        {
          "output_type": "execute_result",
          "data": {
            "text/html": [
              "<div>\n",
              "<style scoped>\n",
              "    .dataframe tbody tr th:only-of-type {\n",
              "        vertical-align: middle;\n",
              "    }\n",
              "\n",
              "    .dataframe tbody tr th {\n",
              "        vertical-align: top;\n",
              "    }\n",
              "\n",
              "    .dataframe thead th {\n",
              "        text-align: right;\n",
              "    }\n",
              "</style>\n",
              "<table border=\"1\" class=\"dataframe\">\n",
              "  <thead>\n",
              "    <tr style=\"text-align: right;\">\n",
              "      <th></th>\n",
              "      <th>predicted_label</th>\n",
              "      <th>dayofweek</th>\n",
              "      <th>mintemp</th>\n",
              "      <th>maxtemp</th>\n",
              "      <th>rain</th>\n",
              "    </tr>\n",
              "  </thead>\n",
              "  <tbody>\n",
              "    <tr>\n",
              "      <th>0</th>\n",
              "      <td>365214</td>\n",
              "      <td>2</td>\n",
              "      <td>50</td>\n",
              "      <td>75</td>\n",
              "      <td>0.2</td>\n",
              "    </tr>\n",
              "  </tbody>\n",
              "</table>\n",
              "</div>"
            ],
            "text/plain": [
              "   predicted_label dayofweek  mintemp  maxtemp  rain\n",
              "0           365214         2       50       75   0.2"
            ]
          },
          "metadata": {
            "tags": []
          },
          "execution_count": 27
        }
      ]
    }
  ]
}