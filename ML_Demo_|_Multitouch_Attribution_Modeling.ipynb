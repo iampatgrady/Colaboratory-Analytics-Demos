{
  "nbformat": 4,
  "nbformat_minor": 0,
  "metadata": {
    "colab": {
      "name": "ML Demo | Multitouch Attribution Modeling.ipynb",
      "provenance": [],
      "include_colab_link": true
    },
    "kernelspec": {
      "name": "python2",
      "display_name": "Python 2"
    }
  },
  "cells": [
    {
      "cell_type": "markdown",
      "metadata": {
        "id": "view-in-github",
        "colab_type": "text"
      },
      "source": [
        "<a href=\"https://colab.research.google.com/github/iampatgrady/Colaboratory-Analytics-Demos/blob/master/ML_Demo_%7C_Multitouch_Attribution_Modeling.ipynb\" target=\"_parent\"><img src=\"https://colab.research.google.com/assets/colab-badge.svg\" alt=\"Open In Colab\"/></a>"
      ]
    },
    {
      "cell_type": "markdown",
      "metadata": {
        "id": "97dyiCngzXJR",
        "colab_type": "text"
      },
      "source": [
        "# Probabilistic Multi-Touch Attribution Model\n",
        "\n",
        "<img src=\"https://storage.googleapis.com/pats-test/images/multi-touch.png\">\n",
        "\n",
        "We will demonstrate how to apply a probabilistic, multi-touch attribution model to your GA data using Python and BigQuery libraries. The procedure in this notebook is based on an article published in 2011 by [Xuhui Shao.](https://www.linkedin.com/in/xuhuishao/) The resulting score helps marketers better understand their channel investments.\n",
        "\n",
        "Big thanks to [Anže Kravanja](https://www.linkedin.com/in/an%C5%BEe-kravanja-54006194/), [Luka Cempre](https://www.linkedin.com/in/luka-cempre-9b5ba71a/), and [Clay Porter](https://www.linkedin.com/in/clayporter1/) for their help in putting this notebook together!\n",
        "\n",
        "Here is the author, [Xuhui Shao](https://www.linkedin.com/in/xuhuishao/), describing the <a href=\"https://www.clickz.com/the-math-behind-multi-touch-attribution/50028/\">math behind the model</a>:  \n",
        "\n",
        "<img src=\"https://storage.googleapis.com/pats-test/images/model.png\"> \n",
        ">Let’s say for one converted user, email contributes 15 percent alone and makes other channels such as display and video 20 percent better. The overall contribution of email to this conversion is 35 percent.\n",
        ">The contributions of all the touch points are then normalized to ensure they always add up to 100 percent. In other words, the credit of the conversion is proportionately assigned to each touch point based on its relative contribution in increasing the user’s probability to convert."
      ]
    },
    {
      "cell_type": "code",
      "metadata": {
        "id": "dOwQBBM6sz-I",
        "colab_type": "code",
        "colab": {}
      },
      "source": [
        "import pandas as pd\n",
        "import numpy as np\n",
        "import itertools\n",
        "import urllib2\n",
        "import matplotlib.pylab as plt\n",
        "plt.style.use(\"fivethirtyeight\")"
      ],
      "execution_count": 0,
      "outputs": []
    },
    {
      "cell_type": "markdown",
      "metadata": {
        "id": "6iWCFXRK2XRt",
        "colab_type": "text"
      },
      "source": [
        "## Query GA Data in BigQuery\n",
        "The <a href=\"https://storage.googleapis.com/pats-test/sql/multi_touch_attribution.sql\">multi_touch_attribution.sql</a> SQL is used to format our data in the appropriate schema for our data pipeline.\n",
        "\n",
        "You're ready to execute the query after adding a target table and start and end dates. In our case we're using the BigQuery GA data for Google Merchandize Store.\n"
      ]
    },
    {
      "cell_type": "code",
      "metadata": {
        "id": "JJDERjTMMdbt",
        "colab_type": "code",
        "colab": {}
      },
      "source": [
        "#@title Enter your BigQuery project ID { run: \"auto\", display-mode: \"form\" }\n",
        "project = \"your_project_here\" #@param {type:\"string\"}\n",
        "target = \"bigquery-public-data.google_analytics_sample.ga_sessions_*\" #@param {type:\"string\"}\n",
        "start = \"2017-06-01\" #@param {type:\"date\"}\n",
        "end = \"2017-08-01\" #@param {type:\"date\"}\n"
      ],
      "execution_count": 0,
      "outputs": []
    },
    {
      "cell_type": "code",
      "metadata": {
        "id": "cZH91Fpus_Pv",
        "colab_type": "code",
        "colab": {}
      },
      "source": [
        "sql_query = urllib2 \\\n",
        "  .urlopen(\"https://storage.googleapis.com/pats-test/sql/multi_touch_attribution.sql\") \\\n",
        "  .read().format(target,start.replace(\"-\",\"\"),end.replace(\"-\",\"\"))\n",
        "\n",
        "ga_data = pd.io.gbq.read_gbq(sql_query,project_id=project,dialect='standard')\n",
        "\n",
        "print ga_data.shape\n",
        "ga_data.sample(5)"
      ],
      "execution_count": 0,
      "outputs": []
    },
    {
      "cell_type": "markdown",
      "metadata": {
        "id": "YrD-pq3P195-",
        "colab_type": "text"
      },
      "source": [
        "## Individual Channel Probability\n",
        "\n",
        "<img src=\"https://storage.googleapis.com/pats-test/images/channel_probability.jpg\">  \n",
        "\n",
        "    P(y|xi) = positives / positives + negatives = conversions / users = channel conversion rate  \n"
      ]
    },
    {
      "cell_type": "code",
      "metadata": {
        "id": "EgwqXCQ3tgM5",
        "colab_type": "code",
        "outputId": "bb43bef2-da70-4334-cb12-766c15d59702",
        "colab": {
          "base_uri": "https://localhost:8080/",
          "height": 297
        }
      },
      "source": [
        "channel_metrics_map = {}  \n",
        "\n",
        "for user in ga_data.to_records(): \n",
        "    \n",
        "    for channel in user[\"channels\"]:\n",
        "        \n",
        "        if not channel in channel_metrics_map:\n",
        "            channel_metrics_map[channel] = { \"conversions\": 0.0, \"users\": 0.0 }\n",
        "            \n",
        "        channel_metrics_map[channel][\"conversions\"] += float(user[\"converted\"])\n",
        "        channel_metrics_map[channel][\"users\"] += 1.0 \n",
        "\n",
        "pd.DataFrame(channel_metrics_map).transpose().sort_values(by='conversions',ascending=False)"
      ],
      "execution_count": 0,
      "outputs": [
        {
          "output_type": "execute_result",
          "data": {
            "text/html": [
              "<div>\n",
              "<style scoped>\n",
              "    .dataframe tbody tr th:only-of-type {\n",
              "        vertical-align: middle;\n",
              "    }\n",
              "\n",
              "    .dataframe tbody tr th {\n",
              "        vertical-align: top;\n",
              "    }\n",
              "\n",
              "    .dataframe thead th {\n",
              "        text-align: right;\n",
              "    }\n",
              "</style>\n",
              "<table border=\"1\" class=\"dataframe\">\n",
              "  <thead>\n",
              "    <tr style=\"text-align: right;\">\n",
              "      <th></th>\n",
              "      <th>conversions</th>\n",
              "      <th>users</th>\n",
              "    </tr>\n",
              "  </thead>\n",
              "  <tbody>\n",
              "    <tr>\n",
              "      <th>Referral</th>\n",
              "      <td>948.0</td>\n",
              "      <td>13076.0</td>\n",
              "    </tr>\n",
              "    <tr>\n",
              "      <th>Organic Search</th>\n",
              "      <td>593.0</td>\n",
              "      <td>64090.0</td>\n",
              "    </tr>\n",
              "    <tr>\n",
              "      <th>Direct</th>\n",
              "      <td>297.0</td>\n",
              "      <td>18781.0</td>\n",
              "    </tr>\n",
              "    <tr>\n",
              "      <th>Paid Search</th>\n",
              "      <td>133.0</td>\n",
              "      <td>4264.0</td>\n",
              "    </tr>\n",
              "    <tr>\n",
              "      <th>Display</th>\n",
              "      <td>29.0</td>\n",
              "      <td>762.0</td>\n",
              "    </tr>\n",
              "    <tr>\n",
              "      <th>Social</th>\n",
              "      <td>9.0</td>\n",
              "      <td>10049.0</td>\n",
              "    </tr>\n",
              "    <tr>\n",
              "      <th>Affiliates</th>\n",
              "      <td>7.0</td>\n",
              "      <td>2617.0</td>\n",
              "    </tr>\n",
              "    <tr>\n",
              "      <th>(Other)</th>\n",
              "      <td>0.0</td>\n",
              "      <td>1.0</td>\n",
              "    </tr>\n",
              "  </tbody>\n",
              "</table>\n",
              "</div>"
            ],
            "text/plain": [
              "                conversions    users\n",
              "Referral              948.0  13076.0\n",
              "Organic Search        593.0  64090.0\n",
              "Direct                297.0  18781.0\n",
              "Paid Search           133.0   4264.0\n",
              "Display                29.0    762.0\n",
              "Social                  9.0  10049.0\n",
              "Affiliates              7.0   2617.0\n",
              "(Other)                 0.0      1.0"
            ]
          },
          "metadata": {
            "tags": []
          },
          "execution_count": 4
        }
      ]
    },
    {
      "cell_type": "markdown",
      "metadata": {
        "id": "_fqLU-7Y2Dl_",
        "colab_type": "text"
      },
      "source": [
        "## Pairwise Channel Probabilities\n",
        "\n",
        "<img src=\"https://storage.googleapis.com/pats-test/images/pairwise_probability.png\">"
      ]
    },
    {
      "cell_type": "code",
      "metadata": {
        "id": "0fSPMKRfxGE8",
        "colab_type": "code",
        "outputId": "80ef8537-71e5-4124-f8e5-0d2c16eed7b7",
        "colab": {
          "base_uri": "https://localhost:8080/",
          "height": 359
        }
      },
      "source": [
        "channel_metrics = channel_metrics_map.copy()\n",
        "\n",
        "for xi,xj in itertools.combinations(channel_metrics.keys(), 2):\n",
        "    \n",
        "    key = \"{}|{}\".format(xi, xj)\n",
        "    \n",
        "    for user in ga_data.loc[ga_data.channels.map(lambda c: ((xi in c) & (xj in c))) == True].to_records():\n",
        "         \n",
        "        if not key in channel_metrics: \n",
        "            channel_metrics[key] = { \"conversions\": 0.0, \"users\": 0.0 }\n",
        "\n",
        "        channel_metrics[key][\"conversions\"] += float(user[3]) \n",
        "        channel_metrics[key][\"users\"] += 1.0 \n",
        "\n",
        "pd.DataFrame(channel_metrics).transpose().sort_values(by='conversions', ascending=False) \\\n",
        "    .reset_index().rename(columns={'index':'channels'})[:10]"
      ],
      "execution_count": 0,
      "outputs": [
        {
          "output_type": "execute_result",
          "data": {
            "text/html": [
              "<div>\n",
              "<style scoped>\n",
              "    .dataframe tbody tr th:only-of-type {\n",
              "        vertical-align: middle;\n",
              "    }\n",
              "\n",
              "    .dataframe tbody tr th {\n",
              "        vertical-align: top;\n",
              "    }\n",
              "\n",
              "    .dataframe thead th {\n",
              "        text-align: right;\n",
              "    }\n",
              "</style>\n",
              "<table border=\"1\" class=\"dataframe\">\n",
              "  <thead>\n",
              "    <tr style=\"text-align: right;\">\n",
              "      <th></th>\n",
              "      <th>channels</th>\n",
              "      <th>conversions</th>\n",
              "      <th>users</th>\n",
              "    </tr>\n",
              "  </thead>\n",
              "  <tbody>\n",
              "    <tr>\n",
              "      <th>0</th>\n",
              "      <td>Referral</td>\n",
              "      <td>948.0</td>\n",
              "      <td>13076.0</td>\n",
              "    </tr>\n",
              "    <tr>\n",
              "      <th>1</th>\n",
              "      <td>Organic Search</td>\n",
              "      <td>593.0</td>\n",
              "      <td>64090.0</td>\n",
              "    </tr>\n",
              "    <tr>\n",
              "      <th>2</th>\n",
              "      <td>Direct</td>\n",
              "      <td>297.0</td>\n",
              "      <td>18781.0</td>\n",
              "    </tr>\n",
              "    <tr>\n",
              "      <th>3</th>\n",
              "      <td>Paid Search</td>\n",
              "      <td>133.0</td>\n",
              "      <td>4264.0</td>\n",
              "    </tr>\n",
              "    <tr>\n",
              "      <th>4</th>\n",
              "      <td>Referral|Organic Search</td>\n",
              "      <td>67.0</td>\n",
              "      <td>818.0</td>\n",
              "    </tr>\n",
              "    <tr>\n",
              "      <th>5</th>\n",
              "      <td>Paid Search|Organic Search</td>\n",
              "      <td>39.0</td>\n",
              "      <td>736.0</td>\n",
              "    </tr>\n",
              "    <tr>\n",
              "      <th>6</th>\n",
              "      <td>Direct|Referral</td>\n",
              "      <td>38.0</td>\n",
              "      <td>344.0</td>\n",
              "    </tr>\n",
              "    <tr>\n",
              "      <th>7</th>\n",
              "      <td>Display</td>\n",
              "      <td>29.0</td>\n",
              "      <td>762.0</td>\n",
              "    </tr>\n",
              "    <tr>\n",
              "      <th>8</th>\n",
              "      <td>Direct|Organic Search</td>\n",
              "      <td>17.0</td>\n",
              "      <td>419.0</td>\n",
              "    </tr>\n",
              "    <tr>\n",
              "      <th>9</th>\n",
              "      <td>Social</td>\n",
              "      <td>9.0</td>\n",
              "      <td>10049.0</td>\n",
              "    </tr>\n",
              "  </tbody>\n",
              "</table>\n",
              "</div>"
            ],
            "text/plain": [
              "                     channels  conversions    users\n",
              "0                    Referral        948.0  13076.0\n",
              "1              Organic Search        593.0  64090.0\n",
              "2                      Direct        297.0  18781.0\n",
              "3                 Paid Search        133.0   4264.0\n",
              "4     Referral|Organic Search         67.0    818.0\n",
              "5  Paid Search|Organic Search         39.0    736.0\n",
              "6             Direct|Referral         38.0    344.0\n",
              "7                     Display         29.0    762.0\n",
              "8       Direct|Organic Search         17.0    419.0\n",
              "9                      Social          9.0  10049.0"
            ]
          },
          "metadata": {
            "tags": []
          },
          "execution_count": 5
        }
      ]
    },
    {
      "cell_type": "markdown",
      "metadata": {
        "id": "_k6lMU9_4ESh",
        "colab_type": "text"
      },
      "source": [
        "### Add calculated field: `Conversion Rate`"
      ]
    },
    {
      "cell_type": "code",
      "metadata": {
        "id": "UJ0zTqUhySNJ",
        "colab_type": "code",
        "outputId": "3cce7638-f8ff-4a86-9eae-fceb771ad458",
        "colab": {
          "base_uri": "https://localhost:8080/",
          "height": 204
        }
      },
      "source": [
        "for key in channel_metrics:\n",
        "    channel_metrics[key][\"conversion rate\"] = np.divide(\n",
        "        channel_metrics[key][\"conversions\"] , \n",
        "        channel_metrics[key][\"users\"]\n",
        "    )\n",
        "\n",
        "pd.DataFrame(channel_metrics).transpose().sort_values(by='conversions', ascending=False) \\\n",
        "    .reset_index().rename(columns={'index':'channels'})[:5]"
      ],
      "execution_count": 0,
      "outputs": [
        {
          "output_type": "execute_result",
          "data": {
            "text/html": [
              "<div>\n",
              "<style scoped>\n",
              "    .dataframe tbody tr th:only-of-type {\n",
              "        vertical-align: middle;\n",
              "    }\n",
              "\n",
              "    .dataframe tbody tr th {\n",
              "        vertical-align: top;\n",
              "    }\n",
              "\n",
              "    .dataframe thead th {\n",
              "        text-align: right;\n",
              "    }\n",
              "</style>\n",
              "<table border=\"1\" class=\"dataframe\">\n",
              "  <thead>\n",
              "    <tr style=\"text-align: right;\">\n",
              "      <th></th>\n",
              "      <th>channels</th>\n",
              "      <th>conversion rate</th>\n",
              "      <th>conversions</th>\n",
              "      <th>users</th>\n",
              "    </tr>\n",
              "  </thead>\n",
              "  <tbody>\n",
              "    <tr>\n",
              "      <th>0</th>\n",
              "      <td>Referral</td>\n",
              "      <td>0.072499</td>\n",
              "      <td>948.0</td>\n",
              "      <td>13076.0</td>\n",
              "    </tr>\n",
              "    <tr>\n",
              "      <th>1</th>\n",
              "      <td>Organic Search</td>\n",
              "      <td>0.009253</td>\n",
              "      <td>593.0</td>\n",
              "      <td>64090.0</td>\n",
              "    </tr>\n",
              "    <tr>\n",
              "      <th>2</th>\n",
              "      <td>Direct</td>\n",
              "      <td>0.015814</td>\n",
              "      <td>297.0</td>\n",
              "      <td>18781.0</td>\n",
              "    </tr>\n",
              "    <tr>\n",
              "      <th>3</th>\n",
              "      <td>Paid Search</td>\n",
              "      <td>0.031191</td>\n",
              "      <td>133.0</td>\n",
              "      <td>4264.0</td>\n",
              "    </tr>\n",
              "    <tr>\n",
              "      <th>4</th>\n",
              "      <td>Referral|Organic Search</td>\n",
              "      <td>0.081907</td>\n",
              "      <td>67.0</td>\n",
              "      <td>818.0</td>\n",
              "    </tr>\n",
              "  </tbody>\n",
              "</table>\n",
              "</div>"
            ],
            "text/plain": [
              "                  channels  conversion rate  conversions    users\n",
              "0                 Referral         0.072499        948.0  13076.0\n",
              "1           Organic Search         0.009253        593.0  64090.0\n",
              "2                   Direct         0.015814        297.0  18781.0\n",
              "3              Paid Search         0.031191        133.0   4264.0\n",
              "4  Referral|Organic Search         0.081907         67.0    818.0"
            ]
          },
          "metadata": {
            "tags": []
          },
          "execution_count": 6
        }
      ]
    },
    {
      "cell_type": "markdown",
      "metadata": {
        "id": "u_ueLjzj4JL7",
        "colab_type": "text"
      },
      "source": [
        "## Simple Multi-Touch Probabilistic Model\n",
        "<img src=\"https://storage.googleapis.com/pats-test/images/model.png\">"
      ]
    },
    {
      "cell_type": "code",
      "metadata": {
        "id": "UCTMXO8Vz0E9",
        "colab_type": "code",
        "outputId": "25b7d44d-6fa5-4817-e90e-b4d4725e730a",
        "colab": {
          "base_uri": "https://localhost:8080/",
          "height": 297
        }
      },
      "source": [
        "channels = [ c for c in channel_metrics.keys() if not \"|\" in c ]\n",
        "channel_contrib = {} \n",
        "\n",
        "for channel in channels:\n",
        "    \n",
        "    p_xi = channel_metrics[channel][\"conversion rate\"]\n",
        "    \n",
        "    combinations = [ c for c in channel_metrics.keys() if channel in c and \"|\" in c ] \n",
        "    n = np.divide(1.0 , float(2 * len(combinations))) \n",
        "    \n",
        "    sum_part = []\n",
        "    \n",
        "    for combination in combinations:\n",
        "        \n",
        "        xi_xj = channel_metrics[combination][\"conversion rate\"]\n",
        "                                             \n",
        "        xi = channel_metrics[ combination.split(\"|\")[0] ][\"conversion rate\"]\n",
        "        xj = channel_metrics[ combination.split(\"|\")[1] ][\"conversion rate\"]\n",
        "                                             \n",
        "        sum_part.append(xi_xj - xi - xj)\n",
        "    \n",
        "    s = np.sum(sum_part)\n",
        "    channel_contrib[channel] = p_xi + n * (s if s > 0 else 0) # this is optional s can be negative\n",
        "\n",
        "pd.DataFrame({\"contribution\": channel_contrib}) "
      ],
      "execution_count": 0,
      "outputs": [
        {
          "output_type": "execute_result",
          "data": {
            "text/html": [
              "<div>\n",
              "<style scoped>\n",
              "    .dataframe tbody tr th:only-of-type {\n",
              "        vertical-align: middle;\n",
              "    }\n",
              "\n",
              "    .dataframe tbody tr th {\n",
              "        vertical-align: top;\n",
              "    }\n",
              "\n",
              "    .dataframe thead th {\n",
              "        text-align: right;\n",
              "    }\n",
              "</style>\n",
              "<table border=\"1\" class=\"dataframe\">\n",
              "  <thead>\n",
              "    <tr style=\"text-align: right;\">\n",
              "      <th></th>\n",
              "      <th>contribution</th>\n",
              "    </tr>\n",
              "  </thead>\n",
              "  <tbody>\n",
              "    <tr>\n",
              "      <th>(Other)</th>\n",
              "      <td>0.000000</td>\n",
              "    </tr>\n",
              "    <tr>\n",
              "      <th>Affiliates</th>\n",
              "      <td>0.002675</td>\n",
              "    </tr>\n",
              "    <tr>\n",
              "      <th>Direct</th>\n",
              "      <td>0.015814</td>\n",
              "    </tr>\n",
              "    <tr>\n",
              "      <th>Display</th>\n",
              "      <td>0.038058</td>\n",
              "    </tr>\n",
              "    <tr>\n",
              "      <th>Organic Search</th>\n",
              "      <td>0.010207</td>\n",
              "    </tr>\n",
              "    <tr>\n",
              "      <th>Paid Search</th>\n",
              "      <td>0.031191</td>\n",
              "    </tr>\n",
              "    <tr>\n",
              "      <th>Referral</th>\n",
              "      <td>0.072499</td>\n",
              "    </tr>\n",
              "    <tr>\n",
              "      <th>Social</th>\n",
              "      <td>0.000896</td>\n",
              "    </tr>\n",
              "  </tbody>\n",
              "</table>\n",
              "</div>"
            ],
            "text/plain": [
              "                contribution\n",
              "(Other)             0.000000\n",
              "Affiliates          0.002675\n",
              "Direct              0.015814\n",
              "Display             0.038058\n",
              "Organic Search      0.010207\n",
              "Paid Search         0.031191\n",
              "Referral            0.072499\n",
              "Social              0.000896"
            ]
          },
          "metadata": {
            "tags": []
          },
          "execution_count": 9
        }
      ]
    },
    {
      "cell_type": "markdown",
      "metadata": {
        "id": "JYb-_gqy4QQR",
        "colab_type": "text"
      },
      "source": [
        "### Covert to `% of Total`, column sums to 1"
      ]
    },
    {
      "cell_type": "code",
      "metadata": {
        "id": "YxgG9gzu4Q6d",
        "colab_type": "code",
        "outputId": "ea49e214-88ea-497b-d2fa-e06cd7c73634",
        "colab": {
          "base_uri": "https://localhost:8080/",
          "height": 314
        }
      },
      "source": [
        "c_sum = np.sum([ channel_contrib[ch] for ch in channel_contrib.keys() ])\n",
        "for key in channel_contrib.keys():\n",
        "    channel_contrib[key] /= c_sum\n",
        "    \n",
        "results = pd.DataFrame(channel_contrib.items())\n",
        "results.columns=['channel','contribution']\n",
        "print \"The contribution column sums to {}\".format(sum(results[\"contribution\"]))\n",
        "results.sort_values(by='contribution',ascending=False).reset_index(drop=True)"
      ],
      "execution_count": 0,
      "outputs": [
        {
          "output_type": "stream",
          "text": [
            "The contribution column sums to 1.0\n"
          ],
          "name": "stdout"
        },
        {
          "output_type": "execute_result",
          "data": {
            "text/html": [
              "<div>\n",
              "<style scoped>\n",
              "    .dataframe tbody tr th:only-of-type {\n",
              "        vertical-align: middle;\n",
              "    }\n",
              "\n",
              "    .dataframe tbody tr th {\n",
              "        vertical-align: top;\n",
              "    }\n",
              "\n",
              "    .dataframe thead th {\n",
              "        text-align: right;\n",
              "    }\n",
              "</style>\n",
              "<table border=\"1\" class=\"dataframe\">\n",
              "  <thead>\n",
              "    <tr style=\"text-align: right;\">\n",
              "      <th></th>\n",
              "      <th>channel</th>\n",
              "      <th>contribution</th>\n",
              "    </tr>\n",
              "  </thead>\n",
              "  <tbody>\n",
              "    <tr>\n",
              "      <th>0</th>\n",
              "      <td>Referral</td>\n",
              "      <td>0.423131</td>\n",
              "    </tr>\n",
              "    <tr>\n",
              "      <th>1</th>\n",
              "      <td>Display</td>\n",
              "      <td>0.222118</td>\n",
              "    </tr>\n",
              "    <tr>\n",
              "      <th>2</th>\n",
              "      <td>Paid Search</td>\n",
              "      <td>0.182044</td>\n",
              "    </tr>\n",
              "    <tr>\n",
              "      <th>3</th>\n",
              "      <td>Direct</td>\n",
              "      <td>0.092295</td>\n",
              "    </tr>\n",
              "    <tr>\n",
              "      <th>4</th>\n",
              "      <td>Organic Search</td>\n",
              "      <td>0.059574</td>\n",
              "    </tr>\n",
              "    <tr>\n",
              "      <th>5</th>\n",
              "      <td>Affiliates</td>\n",
              "      <td>0.015611</td>\n",
              "    </tr>\n",
              "    <tr>\n",
              "      <th>6</th>\n",
              "      <td>Social</td>\n",
              "      <td>0.005227</td>\n",
              "    </tr>\n",
              "    <tr>\n",
              "      <th>7</th>\n",
              "      <td>(Other)</td>\n",
              "      <td>0.000000</td>\n",
              "    </tr>\n",
              "  </tbody>\n",
              "</table>\n",
              "</div>"
            ],
            "text/plain": [
              "          channel  contribution\n",
              "0        Referral      0.423131\n",
              "1         Display      0.222118\n",
              "2     Paid Search      0.182044\n",
              "3          Direct      0.092295\n",
              "4  Organic Search      0.059574\n",
              "5      Affiliates      0.015611\n",
              "6          Social      0.005227\n",
              "7         (Other)      0.000000"
            ]
          },
          "metadata": {
            "tags": []
          },
          "execution_count": 10
        }
      ]
    },
    {
      "cell_type": "markdown",
      "metadata": {
        "id": "CUzq71g94Xg7",
        "colab_type": "text"
      },
      "source": [
        "### Add context by creating weighted fields"
      ]
    },
    {
      "cell_type": "code",
      "metadata": {
        "id": "st5R-ugD4VA3",
        "colab_type": "code",
        "outputId": "75157d86-cf07-4501-93f1-a0b07a04544b",
        "colab": {
          "base_uri": "https://localhost:8080/",
          "height": 297
        }
      },
      "source": [
        "results[\"conversions\"] = results.channel.map(lambda x: channel_metrics[x][\"conversions\"])\n",
        "\n",
        "results[\"score\"] = results[\"conversions\"] * results[\"contribution\"]\n",
        "\n",
        "results['importance'] = np.divide(\n",
        "    results['score']-results['score'].min() , \n",
        "    results['score'].max()-results['score'].min()\n",
        ")\n",
        "\n",
        "results = results.sort_values('importance',ascending=False).reset_index(drop=True)\n",
        "results"
      ],
      "execution_count": 0,
      "outputs": [
        {
          "output_type": "execute_result",
          "data": {
            "text/html": [
              "<div>\n",
              "<style scoped>\n",
              "    .dataframe tbody tr th:only-of-type {\n",
              "        vertical-align: middle;\n",
              "    }\n",
              "\n",
              "    .dataframe tbody tr th {\n",
              "        vertical-align: top;\n",
              "    }\n",
              "\n",
              "    .dataframe thead th {\n",
              "        text-align: right;\n",
              "    }\n",
              "</style>\n",
              "<table border=\"1\" class=\"dataframe\">\n",
              "  <thead>\n",
              "    <tr style=\"text-align: right;\">\n",
              "      <th></th>\n",
              "      <th>channel</th>\n",
              "      <th>contribution</th>\n",
              "      <th>conversions</th>\n",
              "      <th>score</th>\n",
              "      <th>importance</th>\n",
              "    </tr>\n",
              "  </thead>\n",
              "  <tbody>\n",
              "    <tr>\n",
              "      <th>0</th>\n",
              "      <td>Referral</td>\n",
              "      <td>0.423131</td>\n",
              "      <td>948.0</td>\n",
              "      <td>401.127923</td>\n",
              "      <td>1.000000</td>\n",
              "    </tr>\n",
              "    <tr>\n",
              "      <th>1</th>\n",
              "      <td>Organic Search</td>\n",
              "      <td>0.059574</td>\n",
              "      <td>593.0</td>\n",
              "      <td>35.327374</td>\n",
              "      <td>0.088070</td>\n",
              "    </tr>\n",
              "    <tr>\n",
              "      <th>2</th>\n",
              "      <td>Direct</td>\n",
              "      <td>0.092295</td>\n",
              "      <td>297.0</td>\n",
              "      <td>27.411659</td>\n",
              "      <td>0.068336</td>\n",
              "    </tr>\n",
              "    <tr>\n",
              "      <th>3</th>\n",
              "      <td>Paid Search</td>\n",
              "      <td>0.182044</td>\n",
              "      <td>133.0</td>\n",
              "      <td>24.211808</td>\n",
              "      <td>0.060359</td>\n",
              "    </tr>\n",
              "    <tr>\n",
              "      <th>4</th>\n",
              "      <td>Display</td>\n",
              "      <td>0.222118</td>\n",
              "      <td>29.0</td>\n",
              "      <td>6.441428</td>\n",
              "      <td>0.016058</td>\n",
              "    </tr>\n",
              "    <tr>\n",
              "      <th>5</th>\n",
              "      <td>Affiliates</td>\n",
              "      <td>0.015611</td>\n",
              "      <td>7.0</td>\n",
              "      <td>0.109278</td>\n",
              "      <td>0.000272</td>\n",
              "    </tr>\n",
              "    <tr>\n",
              "      <th>6</th>\n",
              "      <td>Social</td>\n",
              "      <td>0.005227</td>\n",
              "      <td>9.0</td>\n",
              "      <td>0.047044</td>\n",
              "      <td>0.000117</td>\n",
              "    </tr>\n",
              "    <tr>\n",
              "      <th>7</th>\n",
              "      <td>(Other)</td>\n",
              "      <td>0.000000</td>\n",
              "      <td>0.0</td>\n",
              "      <td>0.000000</td>\n",
              "      <td>0.000000</td>\n",
              "    </tr>\n",
              "  </tbody>\n",
              "</table>\n",
              "</div>"
            ],
            "text/plain": [
              "          channel  contribution  conversions       score  importance\n",
              "0        Referral      0.423131        948.0  401.127923    1.000000\n",
              "1  Organic Search      0.059574        593.0   35.327374    0.088070\n",
              "2          Direct      0.092295        297.0   27.411659    0.068336\n",
              "3     Paid Search      0.182044        133.0   24.211808    0.060359\n",
              "4         Display      0.222118         29.0    6.441428    0.016058\n",
              "5      Affiliates      0.015611          7.0    0.109278    0.000272\n",
              "6          Social      0.005227          9.0    0.047044    0.000117\n",
              "7         (Other)      0.000000          0.0    0.000000    0.000000"
            ]
          },
          "metadata": {
            "tags": []
          },
          "execution_count": 11
        }
      ]
    },
    {
      "cell_type": "markdown",
      "metadata": {
        "id": "JvSvlYWV4eKc",
        "colab_type": "text"
      },
      "source": [
        "## Visualize the data  "
      ]
    },
    {
      "cell_type": "code",
      "metadata": {
        "id": "7tV3Kzlh4Y_J",
        "colab_type": "code",
        "outputId": "45ea3c7b-8e67-4c45-b79b-2502e3eaefc2",
        "colab": {
          "base_uri": "https://localhost:8080/",
          "height": 409
        }
      },
      "source": [
        "fig, ax = plt.subplots()\n",
        "cmap = plt.cm.get_cmap('tab20')\n",
        "for i,row in results.iterrows():\n",
        "  ax.scatter(\"contribution\", \"conversions\",label=row.channel,\n",
        "             s=row.importance*500, c=cmap(i), data=row)\n",
        "plt.xlabel(\"Contribution Score\")\n",
        "plt.ylabel(\"Conversions\")\n",
        "plt.title(\"Contribution Score by Conversions per Channel\")\n",
        "plt.legend(loc=0)\n",
        "plt.show()"
      ],
      "execution_count": 0,
      "outputs": [
        {
          "output_type": "display_data",
          "data": {
            "image/png": "[encoded data removed]",
            "text/plain": [
              "<matplotlib.figure.Figure at 0x7ff9564a8b50>"
            ]
          },
          "metadata": {
            "tags": []
          }
        }
      ]
    }
  ]
}