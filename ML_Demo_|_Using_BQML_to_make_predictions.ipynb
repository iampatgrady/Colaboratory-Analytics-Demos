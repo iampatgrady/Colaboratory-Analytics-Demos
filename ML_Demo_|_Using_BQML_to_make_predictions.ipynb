{
  "nbformat": 4,
  "nbformat_minor": 0,
  "metadata": {
    "colab": {
      "name": "ML Demo | Using BQML to make predictions.ipynb",
      "version": "0.3.2",
      "provenance": [],
      "collapsed_sections": [],
      "toc_visible": true,
      "include_colab_link": true
    },
    "kernelspec": {
      "name": "python2",
      "display_name": "Python 2"
    }
  },
  "cells": [
    {
      "cell_type": "markdown",
      "metadata": {
        "id": "view-in-github",
        "colab_type": "text"
      },
      "source": [
        "<a href=\"https://colab.research.google.com/github/iampatgrady/Colaboratory-Analytics-Demos/blob/master/ML_Demo_%7C_Using_BQML_to_make_predictions.ipynb\" target=\"_parent\"><img src=\"https://colab.research.google.com/assets/colab-badge.svg\" alt=\"Open In Colab\"/></a>"
      ]
    },
    {
      "cell_type": "markdown",
      "metadata": {
        "id": "2GQvgCkBJEU7",
        "colab_type": "text"
      },
      "source": [
        "# Using BQML to Predict Demand for NYC Taxis based on the Weather Forecast\n",
        "\n",
        "Goal is to build a predictive model using only BigQuery standard SQL. Since this is a Python notebook, we'll use some of the features of Python to analyze the data (ie. a loss function for calculating RSME), but the model itself and it's preditive comes comes from BigQuery alone. This is called BigQuery ML (BQML) and we couldn't be more excited to try it out!\n",
        "\n",
        "To get started, we'll take a [classic Machine Learning example](https://github.com/GoogleCloudPlatform/training-data-analyst/blob/master/CPB100/lab4a/demandforecast.ipynb) and remove the TensorFlow piece. Rest assured, TensorFlow is still being used, but it has been abstracted from view. You'll notice this model performs significantly better than the predessor, and it do this with no customatization on the model.\n"
      ]
    },
    {
      "cell_type": "code",
      "metadata": {
        "id": "2vuXf9sjMfuS",
        "colab_type": "code",
        "colab": {}
      },
      "source": [
        "import pandas as pd\n",
        "import numpy as np\n",
        "import sys\n",
        "import seaborn\n",
        "from  matplotlib import pyplot as plt\n",
        "from google.cloud import bigquery\n",
        "from google.colab import auth\n",
        "auth.authenticate_user()"
      ],
      "execution_count": 0,
      "outputs": []
    },
    {
      "cell_type": "markdown",
      "metadata": {
        "id": "mdXecGNpiCFU",
        "colab_type": "text"
      },
      "source": [
        "You'll need to define some variables that will be used throughout the notebook. These are the GCP `project_id`, the `model_name` can be any name you prefer, and finally the `dateset_name`. The dataset needs to exist in the same project as the `project_id` and you need to have sufficient access to create and delete."
      ]
    },
    {
      "cell_type": "code",
      "metadata": {
        "id": "cyFfGIHmNMVt",
        "colab_type": "code",
        "colab": {}
      },
      "source": [
        "#@title Setup Project Variables { run: \"auto\", display-mode: \"form\" }\n",
        "project_id = 'analyticspros.com:spotted-cinnamon-834' #@param {type:\"string\"}\n",
        "dataset_name = \"pats_dataset\" #@param {type:\"string\"}\n",
        "model_name = \"taxidemand\" #@param {type:\"string\"}\n",
        "eval_name = model_name + \"_eval\"\n",
        "client = bigquery.Client(project=project_id)"
      ],
      "execution_count": 0,
      "outputs": []
    },
    {
      "cell_type": "markdown",
      "metadata": {
        "id": "O62ZVAjmQreq",
        "colab_type": "text"
      },
      "source": [
        "## Create a Linear Regression Model"
      ]
    },
    {
      "cell_type": "markdown",
      "metadata": {
        "id": "t8_d_PHsi7P0",
        "colab_type": "text"
      },
      "source": [
        "### Creating labeled data\n",
        "This query can be run in BigQuery on its own. Try it out! This query gives us 3 years of taxi and weather data for the NYC region. Those two datasets represent our labeled data: weather as our features (or metrics) and taxi trips as our label (target, class, objective, etc...)."
      ]
    },
    {
      "cell_type": "code",
      "metadata": {
        "id": "eCp07Yr1nXu6",
        "colab_type": "code",
        "outputId": "38dbd763-c1ed-4939-87a7-1d2a7753faec",
        "colab": {
          "base_uri": "https://localhost:8080/",
          "height": 34
        }
      },
      "source": [
        "query = \"\"\"\n",
        "WITH trips AS (\n",
        "  SELECT \n",
        "      EXTRACT (YEAR from pickup_datetime) AS year, \n",
        "      EXTRACT (DAYOFYEAR from pickup_datetime) AS daynumber \n",
        "  FROM `bigquery-public-data.new_york.tlc_yellow_trips_*`\n",
        "  where _TABLE_SUFFIX between '2014' and '2016'\n",
        ")\n",
        "SELECT  cast(year as STRING) as year, daynumber, COUNT(1) AS numtrips FROM trips\n",
        "GROUP BY year, daynumber \n",
        "\"\"\"\n",
        "df = client.query(query).to_dataframe()\n",
        "maxtrips = df.numtrips.max()\n",
        "print \"Maximum number of trips in a day: {}\".format(maxtrips)"
      ],
      "execution_count": 0,
      "outputs": [
        {
          "output_type": "stream",
          "text": [
            "Maximum number of trips in a day: 574530\n"
          ],
          "name": "stdout"
        }
      ]
    },
    {
      "cell_type": "code",
      "metadata": {
        "id": "TL80EPsU9K6E",
        "colab_type": "code",
        "outputId": "6dd4dd24-a209-43db-9e15-cc2618ee866b",
        "colab": {
          "base_uri": "https://localhost:8080/",
          "height": 34
        }
      },
      "source": [
        "taxidemand = \"\"\"\n",
        "  -- WEATHER DATA\n",
        "  with wd as (\n",
        "    SELECT \n",
        "        cast(year as STRING) as year,\n",
        "        EXTRACT (DAYOFYEAR FROM CAST(CONCAT(year,'-',mo,'-',da) AS TIMESTAMP)) AS daynumber, \n",
        "        MIN(EXTRACT (DAYOFWEEK FROM CAST(CONCAT(year,'-',mo,'-',da) AS TIMESTAMP))) dayofweek,\n",
        "        MIN(min) mintemp, MAX(max) maxtemp, MAX(IF(prcp=99.99,0,prcp)) rain\n",
        "    FROM `bigquery-public-data.noaa_gsod.gsod*`\n",
        "    WHERE stn='725030'  AND _TABLE_SUFFIX between '2014' and '2016' --station id 725030=LaGuardia\n",
        "    GROUP BY 1,2 \n",
        "  \n",
        "  -- TAXI DATA\n",
        "  ), td as (  \n",
        "    WITH trips AS (\n",
        "      SELECT \n",
        "          EXTRACT (YEAR from pickup_datetime) AS year, \n",
        "          EXTRACT (DAYOFYEAR from pickup_datetime) AS daynumber \n",
        "      FROM `bigquery-public-data.new_york.tlc_yellow_trips_*`\n",
        "      where _TABLE_SUFFIX between '2014' and '2016'\n",
        "    )\n",
        "    SELECT  cast(year as STRING) as year, daynumber, COUNT(1) AS numtrips FROM trips\n",
        "    GROUP BY year, daynumber \n",
        "  )\n",
        "  \n",
        "  -- JOIN WEATHER AND TAXI DATA\n",
        "    SELECT cast(wd.dayofweek as STRING) as dayofweek, \n",
        "    wd.mintemp, \n",
        "    wd.maxtemp, \n",
        "    wd.rain,\n",
        "    td.numtrips / max(td.numtrips) OVER () as label \n",
        "  FROM wd, td\n",
        "  where wd.year = td.year AND\n",
        "  wd.daynumber = td.daynumber\n",
        "  group by dayofweek, mintemp, maxtemp, rain, numtrips\n",
        "\"\"\"\n",
        "data = client.query(taxidemand).to_dataframe()\n",
        "print data.shape"
      ],
      "execution_count": 0,
      "outputs": [
        {
          "output_type": "stream",
          "text": [
            "(1096, 5)\n"
          ],
          "name": "stdout"
        }
      ]
    },
    {
      "cell_type": "code",
      "metadata": {
        "id": "4uawvvOP7mQ4",
        "colab_type": "code",
        "outputId": "fa99940c-2daa-4281-dbaf-c73fbea12861",
        "colab": {
          "base_uri": "https://localhost:8080/",
          "height": 204
        }
      },
      "source": [
        "data.head(5)"
      ],
      "execution_count": 0,
      "outputs": [
        {
          "output_type": "execute_result",
          "data": {
            "text/html": [
              "<div>\n",
              "<style scoped>\n",
              "    .dataframe tbody tr th:only-of-type {\n",
              "        vertical-align: middle;\n",
              "    }\n",
              "\n",
              "    .dataframe tbody tr th {\n",
              "        vertical-align: top;\n",
              "    }\n",
              "\n",
              "    .dataframe thead th {\n",
              "        text-align: right;\n",
              "    }\n",
              "</style>\n",
              "<table border=\"1\" class=\"dataframe\">\n",
              "  <thead>\n",
              "    <tr style=\"text-align: right;\">\n",
              "      <th></th>\n",
              "      <th>dayofweek</th>\n",
              "      <th>mintemp</th>\n",
              "      <th>maxtemp</th>\n",
              "      <th>rain</th>\n",
              "      <th>label</th>\n",
              "    </tr>\n",
              "  </thead>\n",
              "  <tbody>\n",
              "    <tr>\n",
              "      <th>0</th>\n",
              "      <td>1</td>\n",
              "      <td>35.1</td>\n",
              "      <td>48.0</td>\n",
              "      <td>0.00</td>\n",
              "      <td>0.716963</td>\n",
              "    </tr>\n",
              "    <tr>\n",
              "      <th>1</th>\n",
              "      <td>6</td>\n",
              "      <td>44.1</td>\n",
              "      <td>73.0</td>\n",
              "      <td>0.00</td>\n",
              "      <td>0.695788</td>\n",
              "    </tr>\n",
              "    <tr>\n",
              "      <th>2</th>\n",
              "      <td>7</td>\n",
              "      <td>61.0</td>\n",
              "      <td>78.1</td>\n",
              "      <td>0.14</td>\n",
              "      <td>0.681996</td>\n",
              "    </tr>\n",
              "    <tr>\n",
              "      <th>3</th>\n",
              "      <td>6</td>\n",
              "      <td>75.0</td>\n",
              "      <td>98.1</td>\n",
              "      <td>0.00</td>\n",
              "      <td>0.654194</td>\n",
              "    </tr>\n",
              "    <tr>\n",
              "      <th>4</th>\n",
              "      <td>3</td>\n",
              "      <td>72.0</td>\n",
              "      <td>88.0</td>\n",
              "      <td>0.57</td>\n",
              "      <td>0.759953</td>\n",
              "    </tr>\n",
              "  </tbody>\n",
              "</table>\n",
              "</div>"
            ],
            "text/plain": [
              "  dayofweek  mintemp  maxtemp  rain     label\n",
              "0         1     35.1     48.0  0.00  0.716963\n",
              "1         6     44.1     73.0  0.00  0.695788\n",
              "2         7     61.0     78.1  0.14  0.681996\n",
              "3         6     75.0     98.1  0.00  0.654194\n",
              "4         3     72.0     88.0  0.57  0.759953"
            ]
          },
          "metadata": {
            "tags": []
          },
          "execution_count": 6
        }
      ]
    },
    {
      "cell_type": "markdown",
      "metadata": {
        "id": "rg9TOfUi_q3G",
        "colab_type": "text"
      },
      "source": [
        "### Data Exploration"
      ]
    },
    {
      "cell_type": "code",
      "metadata": {
        "id": "OqdO153Y0ZYi",
        "colab_type": "code",
        "outputId": "4bb771bd-f1ec-4668-a886-17e6af832844",
        "colab": {
          "base_uri": "https://localhost:8080/",
          "height": 437
        }
      },
      "source": [
        "fg = seaborn.FacetGrid(data=data, hue='dayofweek', size=6,aspect=1.67)\n",
        "fg = fg.map(plt.scatter, 'label', 'maxtemp').add_legend()\n",
        "fg = fg.set_axis_labels(x_var=\"Number of Trips\", y_var=\"Maximum Temperature\")\n",
        "_ = fg.axes[0,0].set_xlim(0,)\n",
        "_ = fg.axes[0,0].set_ylim(0,)"
      ],
      "execution_count": 0,
      "outputs": [
        {
          "output_type": "display_data",
          "data": {
            "image/png": "[encoded data removed]",
            "text/plain": [
              "<Figure size 774.44x432 with 1 Axes>"
            ]
          },
          "metadata": {
            "tags": []
          }
        }
      ]
    },
    {
      "cell_type": "code",
      "metadata": {
        "id": "v79jdqO2Zqno",
        "colab_type": "code",
        "outputId": "7eff5548-5f10-4c7e-fb93-1793d89dcbef",
        "colab": {
          "base_uri": "https://localhost:8080/",
          "height": 229
        }
      },
      "source": [
        "_ = data.hist(column='label',by='dayofweek', layout=(1,7), figsize=(16,3), sharey=True, sharex=True)"
      ],
      "execution_count": 0,
      "outputs": [
        {
          "output_type": "display_data",
          "data": {
            "image/png": "[encoded data removed]",
            "text/plain": [
              "<Figure size 1152x216 with 7 Axes>"
            ]
          },
          "metadata": {
            "tags": []
          }
        }
      ]
    },
    {
      "cell_type": "code",
      "metadata": {
        "id": "Dc1VNUnVcpVH",
        "colab_type": "code",
        "outputId": "cf51262e-4de4-43b8-878a-bca356d6940e",
        "colab": {
          "base_uri": "https://localhost:8080/",
          "height": 403
        }
      },
      "source": [
        "df = data[data.dayofweek == '7']\n",
        "x = df.label\n",
        "y = df.maxtemp\n",
        "df.plot(kind=\"scatter\",x=\"label\",y=\"maxtemp\", figsize=[10,6],ylim=0,xlim=0)\n",
        "z = np.polyfit(x, y, 1)\n",
        "p = np.poly1d(z)\n",
        "plt.plot(x,p(x),\"r\")\n",
        "plt.title(\"Saturday Taxi Trips by Maximum Temp.\")\n",
        "plt.show()"
      ],
      "execution_count": 0,
      "outputs": [
        {
          "output_type": "display_data",
          "data": {
            "image/png": "[encoded data removed]",
            "text/plain": [
              "<Figure size 720x432 with 1 Axes>"
            ]
          },
          "metadata": {
            "tags": []
          }
        }
      ]
    },
    {
      "cell_type": "markdown",
      "metadata": {
        "id": "H_jFTiE4_1OO",
        "colab_type": "text"
      },
      "source": [
        "We see that trips made on a Saturday have a strong correlation with the maximum temperature. As the temperature descreases the demand for taxis increases. Our model is likely going to be able to use the predictive power found within this relationship between feature inputs and our target variable."
      ]
    },
    {
      "cell_type": "markdown",
      "metadata": {
        "id": "Eij4o-fDlpd8",
        "colab_type": "text"
      },
      "source": [
        "### Defining Model Parameters"
      ]
    },
    {
      "cell_type": "markdown",
      "metadata": {
        "id": "S2S4NJ9plHrp",
        "colab_type": "text"
      },
      "source": [
        "In order to turn the above SQL into a predictive model, we simply need to `CREATE` the `MODEL` specifiying `linear_reg` or `logistic_reg`. This lets you build models for both regression (continous variable prediction) or classification (discreet variable prediction). Refer to the BQML documentation for more information on options and configuring your predictive model."
      ]
    },
    {
      "cell_type": "code",
      "metadata": {
        "id": "lpPdV_PXMfvU",
        "colab_type": "code",
        "colab": {}
      },
      "source": [
        "query = \"\"\"\n",
        "  CREATE OR REPLACE MODEL {0}.{1} \n",
        "    OPTIONS (\n",
        "      model_type='linear_reg'\n",
        "    ) as {2}\n",
        "\"\"\".format(dataset_name, model_name, taxidemand)"
      ],
      "execution_count": 0,
      "outputs": []
    },
    {
      "cell_type": "markdown",
      "metadata": {
        "id": "XQ_rGCZQN-0c",
        "colab_type": "text"
      },
      "source": [
        "### `CREATE MODEL` using `linear_reg`\n",
        "The `for` loop will kick-off the `query_job` that has the `query` waiting to be processed. Once the job finishes it will continue through the `query_job` iterator until finished. At this point in time, the Google Cloud Python BigQuery API is throwing errors; these will be addressed in the near future."
      ]
    },
    {
      "cell_type": "code",
      "metadata": {
        "id": "3tmKmnutUvuC",
        "colab_type": "code",
        "outputId": "5d1411d2-cb17-4d67-f5f1-a2ecd39079ff",
        "colab": {
          "base_uri": "https://localhost:8080/",
          "height": 34
        }
      },
      "source": [
        "query_job = client.query(query)\n",
        "dataset_ref = client.dataset(dataset_name)\n",
        "try: \n",
        "  for row in query_job:\n",
        "    print row\n",
        "except:\n",
        "  print \"ignoring this error: {}\".format(sys.exc_info()) #  the model was successfully created\n",
        "\n",
        "# confirm new tables exist in dataset\n",
        "for i in client.list_tables(dataset_ref):\n",
        "  if (i.table_id == model_name or i.table_id == eval_name):\n",
        "     print i.table_id"
      ],
      "execution_count": 0,
      "outputs": [
        {
          "output_type": "stream",
          "text": [
            "taxidemand\n"
          ],
          "name": "stdout"
        }
      ]
    },
    {
      "cell_type": "markdown",
      "metadata": {
        "id": "7Rujpd463BIc",
        "colab_type": "text"
      },
      "source": [
        "## Get `ml.EVALUATE()` info"
      ]
    },
    {
      "cell_type": "markdown",
      "metadata": {
        "id": "iHkVfKg0ASrN",
        "colab_type": "text"
      },
      "source": [
        "### Baseline Mean Absolute Error\n",
        "We want to establish a baseline to measure ourselves against. Below, we take the entire dataset (using the `taxidemand` query). Taking the mean of `numtrips` gives us an average daily trip count of `403,642`.  We'll use Pandas Mean Absolute Deviation function to calculate our MAE."
      ]
    },
    {
      "cell_type": "code",
      "metadata": {
        "id": "JOgEN2pkGGG4",
        "colab_type": "code",
        "outputId": "a93883ec-b0ab-42f8-e5a1-0c07a50b5146",
        "colab": {
          "base_uri": "https://localhost:8080/",
          "height": 34
        }
      },
      "source": [
        "# Our prediction should beat the average MAE\n",
        "df = client.query(taxidemand).to_dataframe()\n",
        "print 'Average trips={0} with a MAE of {1}'.format(\n",
        "    int(df.label.mean()*maxtrips), # scale value using the maxtrips variable\n",
        "    int(df.label.mad()*maxtrips) # MAE, MAD = Mean Absolute Error, Mean Absolute Difference\n",
        ")"
      ],
      "execution_count": 0,
      "outputs": [
        {
          "output_type": "stream",
          "text": [
            "Average trips=403642 with a MAE of 50419\n"
          ],
          "name": "stdout"
        }
      ]
    },
    {
      "cell_type": "markdown",
      "metadata": {
        "id": "zFxtDZJr4uWU",
        "colab_type": "text"
      },
      "source": [
        "### `ml.EVALUATE()`\n",
        "We're looking to beat the MAE (shown below as `mean_absolute_error`)  of `50,419`. Fingers crossed!"
      ]
    },
    {
      "cell_type": "code",
      "metadata": {
        "id": "R2oulkWuojqf",
        "colab_type": "code",
        "outputId": "16a2becd-d3a8-405d-809f-71d1505d5e0c",
        "colab": {
          "base_uri": "https://localhost:8080/",
          "height": 80
        }
      },
      "source": [
        "query = (\"select * from ml.EVALUATE(MODEL {0}.{1}, ({2}))\") \\\n",
        "  .format(dataset_name, model_name, taxidemand)\n",
        "df = client.query(query).to_dataframe()\n",
        "df[\"mean_absolute_error\"] = np.multiply(df[\"mean_absolute_error\"],maxtrips).astype(int)\n",
        "df"
      ],
      "execution_count": 0,
      "outputs": [
        {
          "output_type": "execute_result",
          "data": {
            "text/html": [
              "<div>\n",
              "<style scoped>\n",
              "    .dataframe tbody tr th:only-of-type {\n",
              "        vertical-align: middle;\n",
              "    }\n",
              "\n",
              "    .dataframe tbody tr th {\n",
              "        vertical-align: top;\n",
              "    }\n",
              "\n",
              "    .dataframe thead th {\n",
              "        text-align: right;\n",
              "    }\n",
              "</style>\n",
              "<table border=\"1\" class=\"dataframe\">\n",
              "  <thead>\n",
              "    <tr style=\"text-align: right;\">\n",
              "      <th></th>\n",
              "      <th>mean_absolute_error</th>\n",
              "      <th>mean_squared_error</th>\n",
              "      <th>mean_squared_log_error</th>\n",
              "      <th>median_absolute_error</th>\n",
              "      <th>r2_score</th>\n",
              "      <th>explained_variance</th>\n",
              "    </tr>\n",
              "  </thead>\n",
              "  <tbody>\n",
              "    <tr>\n",
              "      <th>0</th>\n",
              "      <td>43548</td>\n",
              "      <td>0.009718</td>\n",
              "      <td>0.003547</td>\n",
              "      <td>0.064124</td>\n",
              "      <td>0.210453</td>\n",
              "      <td>0.21047</td>\n",
              "    </tr>\n",
              "  </tbody>\n",
              "</table>\n",
              "</div>"
            ],
            "text/plain": [
              "   mean_absolute_error  mean_squared_error  mean_squared_log_error  \\\n",
              "0                43548            0.009718                0.003547   \n",
              "\n",
              "   median_absolute_error  r2_score  explained_variance  \n",
              "0               0.064124  0.210453             0.21047  "
            ]
          },
          "metadata": {
            "tags": []
          },
          "execution_count": 13
        }
      ]
    },
    {
      "cell_type": "markdown",
      "metadata": {
        "id": "HPezziG9o8vT",
        "colab_type": "text"
      },
      "source": [
        "Smashed it!"
      ]
    },
    {
      "cell_type": "markdown",
      "metadata": {
        "id": "LW_s7hxdpmYU",
        "colab_type": "text"
      },
      "source": [
        "### Custom Loss Function\n",
        "Do you read the articles that include \"the hard way\" in them? Perhaps you like to to see the math in action. Below we create a custom loss function and evaluate it against our model. We'll do this using the entire dataset (as defined by `taxidemand`).  We'd expect our `model_MAE` to match the `mean_absolute_error` value returned by the `ml.EVALUATE` function above.  Fingers crossed!"
      ]
    },
    {
      "cell_type": "code",
      "metadata": {
        "id": "FJIH7C828L3t",
        "colab_type": "code",
        "outputId": "01c0385b-8bbf-46a8-dc90-ea1b696f304f",
        "colab": {
          "base_uri": "https://localhost:8080/",
          "height": 34
        }
      },
      "source": [
        "query = \"\"\"\n",
        "SELECT SUM(error) / COUNT(*) as model_MAE from (\n",
        "  SELECT  abs(predicted_label-label) as error\n",
        "          FROM ML.PREDICT(MODEL `{0}.{1}` , ({2}))\n",
        ")\n",
        "\"\"\".format(dataset_name, model_name, taxidemand)\n",
        "df = client.query(query).to_dataframe()\n",
        "print int(df.model_MAE*maxtrips)"
      ],
      "execution_count": 0,
      "outputs": [
        {
          "output_type": "stream",
          "text": [
            "43548\n"
          ],
          "name": "stdout"
        }
      ]
    },
    {
      "cell_type": "markdown",
      "metadata": {
        "id": "Zxk23tcsqkEq",
        "colab_type": "text"
      },
      "source": [
        "Sure enough, the math adds up!"
      ]
    },
    {
      "cell_type": "markdown",
      "metadata": {
        "id": "6YGJebMOBN8O",
        "colab_type": "text"
      },
      "source": [
        "## Get `ml.TRAINING_INFO()` for the model\n",
        "This shows us how many training procedures were needed to reach convergence, and provides various metrics associated with the training run. The system performs hyperparameter tuning automatically in order to establish the best model settings."
      ]
    },
    {
      "cell_type": "code",
      "metadata": {
        "id": "7DFpB7z8_gkC",
        "colab_type": "code",
        "outputId": "34941115-864b-4a44-ec8f-0bb3b5cb4478",
        "colab": {
          "base_uri": "https://localhost:8080/",
          "height": 80
        }
      },
      "source": [
        "query = \"select * from ml.TRAINING_INFO(MODEL {0}.{1})\".format(dataset_name, model_name)\n",
        "df = client.query(query).to_dataframe()\n",
        "df"
      ],
      "execution_count": 0,
      "outputs": [
        {
          "output_type": "execute_result",
          "data": {
            "text/html": [
              "<div>\n",
              "<style scoped>\n",
              "    .dataframe tbody tr th:only-of-type {\n",
              "        vertical-align: middle;\n",
              "    }\n",
              "\n",
              "    .dataframe tbody tr th {\n",
              "        vertical-align: top;\n",
              "    }\n",
              "\n",
              "    .dataframe thead th {\n",
              "        text-align: right;\n",
              "    }\n",
              "</style>\n",
              "<table border=\"1\" class=\"dataframe\">\n",
              "  <thead>\n",
              "    <tr style=\"text-align: right;\">\n",
              "      <th></th>\n",
              "      <th>training_run</th>\n",
              "      <th>iteration</th>\n",
              "      <th>loss</th>\n",
              "      <th>eval_loss</th>\n",
              "      <th>duration_ms</th>\n",
              "      <th>learning_rate</th>\n",
              "    </tr>\n",
              "  </thead>\n",
              "  <tbody>\n",
              "    <tr>\n",
              "      <th>0</th>\n",
              "      <td>0</td>\n",
              "      <td>0</td>\n",
              "      <td>0.009589</td>\n",
              "      <td>0.010288</td>\n",
              "      <td>3926</td>\n",
              "      <td>None</td>\n",
              "    </tr>\n",
              "  </tbody>\n",
              "</table>\n",
              "</div>"
            ],
            "text/plain": [
              "   training_run  iteration      loss  eval_loss  duration_ms learning_rate\n",
              "0             0          0  0.009589   0.010288         3926          None"
            ]
          },
          "metadata": {
            "tags": []
          },
          "execution_count": 15
        }
      ]
    },
    {
      "cell_type": "markdown",
      "metadata": {
        "id": "jM4drx_3dODo",
        "colab_type": "text"
      },
      "source": [
        "## Get ml.FEATURE_INFO() for the model\n",
        "This function prints out the descriptive statistics for the numerical features: min(), max(), avg(), and standard deviation. The category count shows the number of distinct values found within a categorical feature. Null count is important to note because the model will automatically convert nulls to the mean of the feature set (fairly standard practice, but could be controversial!)"
      ]
    },
    {
      "cell_type": "code",
      "metadata": {
        "id": "SAISuAh1dche",
        "colab_type": "code",
        "outputId": "00c2d133-a8ef-4cc8-9b5d-e9a5340f9f3a",
        "colab": {
          "base_uri": "https://localhost:8080/",
          "height": 173
        }
      },
      "source": [
        "query = \"select * from ml.FEATURE_INFO(MODEL {0}.{1})\".format(dataset_name, model_name)\n",
        "df = client.query(query).to_dataframe()\n",
        "df"
      ],
      "execution_count": 0,
      "outputs": [
        {
          "output_type": "execute_result",
          "data": {
            "text/html": [
              "<div>\n",
              "<style scoped>\n",
              "    .dataframe tbody tr th:only-of-type {\n",
              "        vertical-align: middle;\n",
              "    }\n",
              "\n",
              "    .dataframe tbody tr th {\n",
              "        vertical-align: top;\n",
              "    }\n",
              "\n",
              "    .dataframe thead th {\n",
              "        text-align: right;\n",
              "    }\n",
              "</style>\n",
              "<table border=\"1\" class=\"dataframe\">\n",
              "  <thead>\n",
              "    <tr style=\"text-align: right;\">\n",
              "      <th></th>\n",
              "      <th>input</th>\n",
              "      <th>min</th>\n",
              "      <th>max</th>\n",
              "      <th>mean</th>\n",
              "      <th>median</th>\n",
              "      <th>stddev</th>\n",
              "      <th>category_count</th>\n",
              "      <th>null_count</th>\n",
              "    </tr>\n",
              "  </thead>\n",
              "  <tbody>\n",
              "    <tr>\n",
              "      <th>0</th>\n",
              "      <td>dayofweek</td>\n",
              "      <td>NaN</td>\n",
              "      <td>NaN</td>\n",
              "      <td>NaN</td>\n",
              "      <td>NaN</td>\n",
              "      <td>NaN</td>\n",
              "      <td>7.0</td>\n",
              "      <td>0</td>\n",
              "    </tr>\n",
              "    <tr>\n",
              "      <th>1</th>\n",
              "      <td>mintemp</td>\n",
              "      <td>1.0</td>\n",
              "      <td>82.00</td>\n",
              "      <td>48.696756</td>\n",
              "      <td>50.0</td>\n",
              "      <td>17.919895</td>\n",
              "      <td>NaN</td>\n",
              "      <td>0</td>\n",
              "    </tr>\n",
              "    <tr>\n",
              "      <th>2</th>\n",
              "      <td>maxtemp</td>\n",
              "      <td>21.0</td>\n",
              "      <td>99.00</td>\n",
              "      <td>66.765324</td>\n",
              "      <td>69.1</td>\n",
              "      <td>18.344989</td>\n",
              "      <td>NaN</td>\n",
              "      <td>0</td>\n",
              "    </tr>\n",
              "    <tr>\n",
              "      <th>3</th>\n",
              "      <td>rain</td>\n",
              "      <td>0.0</td>\n",
              "      <td>4.88</td>\n",
              "      <td>0.110626</td>\n",
              "      <td>0.0</td>\n",
              "      <td>0.318496</td>\n",
              "      <td>NaN</td>\n",
              "      <td>0</td>\n",
              "    </tr>\n",
              "  </tbody>\n",
              "</table>\n",
              "</div>"
            ],
            "text/plain": [
              "       input   min    max       mean  median     stddev  category_count  \\\n",
              "0  dayofweek   NaN    NaN        NaN     NaN        NaN             7.0   \n",
              "1    mintemp   1.0  82.00  48.696756    50.0  17.919895             NaN   \n",
              "2    maxtemp  21.0  99.00  66.765324    69.1  18.344989             NaN   \n",
              "3       rain   0.0   4.88   0.110626     0.0   0.318496             NaN   \n",
              "\n",
              "   null_count  \n",
              "0           0  \n",
              "1           0  \n",
              "2           0  \n",
              "3           0  "
            ]
          },
          "metadata": {
            "tags": []
          },
          "execution_count": 16
        }
      ]
    },
    {
      "cell_type": "markdown",
      "metadata": {
        "id": "gjMcaw5pDOgO",
        "colab_type": "text"
      },
      "source": [
        "## Get `ml.WEIGHTS()` for the `dayofweek`\n",
        "We created a linear model, here are the weights applied to the features of that model."
      ]
    },
    {
      "cell_type": "code",
      "metadata": {
        "id": "jHQkhHQ1w72e",
        "colab_type": "code",
        "outputId": "8bda51fa-7a95-4a99-d424-831a6108dd06",
        "colab": {
          "base_uri": "https://localhost:8080/",
          "height": 204
        }
      },
      "source": [
        "query = \"select * from ml.WEIGHTS(MODEL {0}.{1})\".format(dataset_name, model_name)\n",
        "df = client.query(query).to_dataframe()\n",
        "pd.DataFrame({ \n",
        "    \"processed_input\" : df.processed_input,\n",
        "    \"weights\": df.weight \n",
        "})"
      ],
      "execution_count": 0,
      "outputs": [
        {
          "output_type": "execute_result",
          "data": {
            "text/html": [
              "<div>\n",
              "<style scoped>\n",
              "    .dataframe tbody tr th:only-of-type {\n",
              "        vertical-align: middle;\n",
              "    }\n",
              "\n",
              "    .dataframe tbody tr th {\n",
              "        vertical-align: top;\n",
              "    }\n",
              "\n",
              "    .dataframe thead th {\n",
              "        text-align: right;\n",
              "    }\n",
              "</style>\n",
              "<table border=\"1\" class=\"dataframe\">\n",
              "  <thead>\n",
              "    <tr style=\"text-align: right;\">\n",
              "      <th></th>\n",
              "      <th>processed_input</th>\n",
              "      <th>weights</th>\n",
              "    </tr>\n",
              "  </thead>\n",
              "  <tbody>\n",
              "    <tr>\n",
              "      <th>0</th>\n",
              "      <td>dayofweek</td>\n",
              "      <td>NaN</td>\n",
              "    </tr>\n",
              "    <tr>\n",
              "      <th>1</th>\n",
              "      <td>mintemp</td>\n",
              "      <td>-0.003137</td>\n",
              "    </tr>\n",
              "    <tr>\n",
              "      <th>2</th>\n",
              "      <td>maxtemp</td>\n",
              "      <td>0.001394</td>\n",
              "    </tr>\n",
              "    <tr>\n",
              "      <th>3</th>\n",
              "      <td>rain</td>\n",
              "      <td>-0.005294</td>\n",
              "    </tr>\n",
              "    <tr>\n",
              "      <th>4</th>\n",
              "      <td>__INTERCEPT__</td>\n",
              "      <td>6.317187</td>\n",
              "    </tr>\n",
              "  </tbody>\n",
              "</table>\n",
              "</div>"
            ],
            "text/plain": [
              "  processed_input   weights\n",
              "0       dayofweek       NaN\n",
              "1         mintemp -0.003137\n",
              "2         maxtemp  0.001394\n",
              "3            rain -0.005294\n",
              "4   __INTERCEPT__  6.317187"
            ]
          },
          "metadata": {
            "tags": []
          },
          "execution_count": 17
        }
      ]
    },
    {
      "cell_type": "code",
      "metadata": {
        "id": "6eBq-uLFDMCk",
        "colab_type": "code",
        "outputId": "3166e5db-2d21-4553-9fb5-4a075fedf060",
        "colab": {
          "base_uri": "https://localhost:8080/",
          "height": 266
        }
      },
      "source": [
        "query = \"select * from ml.WEIGHTS(MODEL {0}.{1})\".format(dataset_name, model_name)\n",
        "df = client.query(query).to_dataframe()\n",
        "df = pd.DataFrame(df.category_weights[0]).sort_values(by='category').reset_index(drop=True)\n",
        "df.round(2)"
      ],
      "execution_count": 0,
      "outputs": [
        {
          "output_type": "execute_result",
          "data": {
            "text/html": [
              "<div>\n",
              "<style scoped>\n",
              "    .dataframe tbody tr th:only-of-type {\n",
              "        vertical-align: middle;\n",
              "    }\n",
              "\n",
              "    .dataframe tbody tr th {\n",
              "        vertical-align: top;\n",
              "    }\n",
              "\n",
              "    .dataframe thead th {\n",
              "        text-align: right;\n",
              "    }\n",
              "</style>\n",
              "<table border=\"1\" class=\"dataframe\">\n",
              "  <thead>\n",
              "    <tr style=\"text-align: right;\">\n",
              "      <th></th>\n",
              "      <th>category</th>\n",
              "      <th>weight</th>\n",
              "    </tr>\n",
              "  </thead>\n",
              "  <tbody>\n",
              "    <tr>\n",
              "      <th>0</th>\n",
              "      <td>1</td>\n",
              "      <td>-5.59</td>\n",
              "    </tr>\n",
              "    <tr>\n",
              "      <th>1</th>\n",
              "      <td>2</td>\n",
              "      <td>-5.63</td>\n",
              "    </tr>\n",
              "    <tr>\n",
              "      <th>2</th>\n",
              "      <td>3</td>\n",
              "      <td>-5.57</td>\n",
              "    </tr>\n",
              "    <tr>\n",
              "      <th>3</th>\n",
              "      <td>4</td>\n",
              "      <td>-5.54</td>\n",
              "    </tr>\n",
              "    <tr>\n",
              "      <th>4</th>\n",
              "      <td>5</td>\n",
              "      <td>-5.53</td>\n",
              "    </tr>\n",
              "    <tr>\n",
              "      <th>5</th>\n",
              "      <td>6</td>\n",
              "      <td>-5.51</td>\n",
              "    </tr>\n",
              "    <tr>\n",
              "      <th>6</th>\n",
              "      <td>7</td>\n",
              "      <td>-5.51</td>\n",
              "    </tr>\n",
              "  </tbody>\n",
              "</table>\n",
              "</div>"
            ],
            "text/plain": [
              "  category  weight\n",
              "0        1   -5.59\n",
              "1        2   -5.63\n",
              "2        3   -5.57\n",
              "3        4   -5.54\n",
              "4        5   -5.53\n",
              "5        6   -5.51\n",
              "6        7   -5.51"
            ]
          },
          "metadata": {
            "tags": []
          },
          "execution_count": 18
        }
      ]
    },
    {
      "cell_type": "markdown",
      "metadata": {
        "id": "tw9YQ3HwJkr_",
        "colab_type": "text"
      },
      "source": [
        "## Make Predictions\n",
        "Adjust the sliders to create new input values to be evaluated by the model.  The model takes the min and max tempertatures plus rainfall for any given day of the week and returns the predicted number of taxi trips that will occur that day. "
      ]
    },
    {
      "cell_type": "code",
      "metadata": {
        "id": "G1fIhe5sIS8P",
        "colab_type": "code",
        "outputId": "a395883f-e488-4b4b-8a3a-7aa7a38835ed",
        "colab": {
          "base_uri": "https://localhost:8080/",
          "height": 80
        }
      },
      "source": [
        "#@title Select your input parameters { run: \"auto\", display-mode: \"form\" }\n",
        "mintemp = 50 #@param {type:\"slider\", min:1, max:90, step:1}\n",
        "maxtemp = 70 #@param {type:\"slider\", min:10, max:110, step:1}\n",
        "rain = 0.1 #@param {type:\"slider\", min:0, max:5, step:0.1}\n",
        "dayofweek = 7 #@param {type:\"slider\", min:1, max:7, step:1}\n",
        "\n",
        "query = \"\"\"\n",
        "  select *\n",
        "  from ml.PREDICT(\n",
        "    MODEL {0}.{1},  (\n",
        "      select  '{5}' as dayofweek,  \n",
        "              {2} as mintemp,  \n",
        "              {3} as maxtemp, \n",
        "              {4} as rain\n",
        "    )\n",
        "  )\n",
        "\"\"\".format(dataset_name, \n",
        "           model_name, \n",
        "           mintemp,\n",
        "           maxtemp,\n",
        "           rain,\n",
        "           dayofweek)\n",
        "\n",
        "df = client.query(query).to_dataframe()\n",
        "df[\"predicted_label\"] = np.multiply(df[\"predicted_label\"],maxtrips).astype(int)\n",
        "df"
      ],
      "execution_count": 0,
      "outputs": [
        {
          "output_type": "execute_result",
          "data": {
            "text/html": [
              "<div>\n",
              "<style scoped>\n",
              "    .dataframe tbody tr th:only-of-type {\n",
              "        vertical-align: middle;\n",
              "    }\n",
              "\n",
              "    .dataframe tbody tr th {\n",
              "        vertical-align: top;\n",
              "    }\n",
              "\n",
              "    .dataframe thead th {\n",
              "        text-align: right;\n",
              "    }\n",
              "</style>\n",
              "<table border=\"1\" class=\"dataframe\">\n",
              "  <thead>\n",
              "    <tr style=\"text-align: right;\">\n",
              "      <th></th>\n",
              "      <th>predicted_label</th>\n",
              "      <th>dayofweek</th>\n",
              "      <th>mintemp</th>\n",
              "      <th>maxtemp</th>\n",
              "      <th>rain</th>\n",
              "    </tr>\n",
              "  </thead>\n",
              "  <tbody>\n",
              "    <tr>\n",
              "      <th>0</th>\n",
              "      <td>431537</td>\n",
              "      <td>7</td>\n",
              "      <td>50</td>\n",
              "      <td>70</td>\n",
              "      <td>0.1</td>\n",
              "    </tr>\n",
              "  </tbody>\n",
              "</table>\n",
              "</div>"
            ],
            "text/plain": [
              "   predicted_label dayofweek  mintemp  maxtemp  rain\n",
              "0           431537         7       50       70   0.1"
            ]
          },
          "metadata": {
            "tags": []
          },
          "execution_count": 22
        }
      ]
    }
  ]
}